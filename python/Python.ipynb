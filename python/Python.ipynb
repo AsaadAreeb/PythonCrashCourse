{
 "cells": [
  {
   "cell_type": "markdown",
   "id": "be1762ec",
   "metadata": {},
   "source": [
    "# Functions"
   ]
  },
  {
   "cell_type": "code",
   "execution_count": 1,
   "id": "60eb00fc",
   "metadata": {},
   "outputs": [
    {
     "name": "stdout",
     "output_type": "stream",
     "text": [
      "Hello!\n"
     ]
    }
   ],
   "source": [
    "def greet_user():\n",
    "    \"\"\"Display a simple greeting.\"\"\"\n",
    "    print(\"Hello!\")\n",
    "\n",
    "greet_user()"
   ]
  },
  {
   "cell_type": "code",
   "execution_count": 2,
   "id": "f7cf06bc",
   "metadata": {},
   "outputs": [
    {
     "name": "stdout",
     "output_type": "stream",
     "text": [
      "Hello, Asaad!\n"
     ]
    }
   ],
   "source": [
    "def greet_user(username):\n",
    "    \"\"\"Display a simple greeting.\"\"\"\n",
    "    print(\"Hello, \" + username.title() + \"!\")\n",
    "greet_user(\"Asaad\")    "
   ]
  },
  {
   "cell_type": "markdown",
   "id": "1955e9d8",
   "metadata": {},
   "source": [
    "> parameter : a piece of information the function needs to do its job.\n",
    "\n",
    "> argument : is a piece of information that is passed from a function call to a function."
   ]
  },
  {
   "cell_type": "code",
   "execution_count": 3,
   "id": "7e36f0e9",
   "metadata": {},
   "outputs": [
    {
     "name": "stdout",
     "output_type": "stream",
     "text": [
      "parameter : a piece of information the function needs to do its job.\n",
      "argument : is a piece of information that is passed from a function call to a function.\n"
     ]
    }
   ],
   "source": [
    "def display_message():\n",
    "    \"\"\"Display message\"\"\"\n",
    "    print(\"parameter : a piece of information the function needs to do its job.\" + \"\\n\" +\n",
    "          \"argument : is a piece of information that is passed from a function call to a function.\")\n",
    "    \n",
    "display_message()"
   ]
  },
  {
   "cell_type": "code",
   "execution_count": 4,
   "id": "cc9b2dbf",
   "metadata": {},
   "outputs": [
    {
     "name": "stdout",
     "output_type": "stream",
     "text": [
      "One of my favorite books is Overlord\n"
     ]
    }
   ],
   "source": [
    "def favorite_book(title):\n",
    "    \"\"\"Print the name of favorite book\"\"\"\n",
    "    print(\"One of my favorite books is \" + title.title())\n",
    "\n",
    "favorite_book(\"Overlord\")"
   ]
  },
  {
   "cell_type": "code",
   "execution_count": 5,
   "id": "63395260",
   "metadata": {},
   "outputs": [
    {
     "name": "stdout",
     "output_type": "stream",
     "text": [
      "\n",
      "I have a cat.\n",
      "My cat's name is Mano.\n"
     ]
    }
   ],
   "source": [
    "def describe_pet(animal_type, pet_name):\n",
    "    \"\"\"Display information about a pet.\"\"\"\n",
    "    print(\"\\nI have a \" + animal_type + \".\")\n",
    "    print(\"My \" + animal_type + \"'s name is \" + pet_name.title() + \".\")\n",
    "    \n",
    "describe_pet(\"cat\", \"mano\")    "
   ]
  },
  {
   "cell_type": "code",
   "execution_count": 6,
   "id": "c10d62f1",
   "metadata": {},
   "outputs": [
    {
     "name": "stdout",
     "output_type": "stream",
     "text": [
      "\n",
      "I have a dog.\n",
      "My dog's name is Max.\n"
     ]
    }
   ],
   "source": [
    "describe_pet(\"dog\", \"max\")"
   ]
  },
  {
   "cell_type": "code",
   "execution_count": 7,
   "id": "8f569f4d",
   "metadata": {},
   "outputs": [
    {
     "name": "stdout",
     "output_type": "stream",
     "text": [
      "\n",
      "I have a hamster.\n",
      "My hamster's name is Harry.\n",
      "\n",
      "I have a hamster.\n",
      "My hamster's name is Harry.\n"
     ]
    }
   ],
   "source": [
    "def describe_pet(animal_type, pet_name):\n",
    "    \"\"\"Display information about a pet.\"\"\"\n",
    "    print(\"\\nI have a \" + animal_type + \".\")\n",
    "    print(\"My \" + animal_type + \"'s name is \" + pet_name.title() + \".\")\n",
    "    \n",
    "describe_pet(animal_type='hamster', pet_name='harry')\n",
    "describe_pet(pet_name='harry', animal_type='hamster')"
   ]
  },
  {
   "cell_type": "code",
   "execution_count": 8,
   "id": "5ed22cf7",
   "metadata": {},
   "outputs": [
    {
     "name": "stdout",
     "output_type": "stream",
     "text": [
      "\n",
      "I have dog.\n",
      "My dog's name is Wallie.\n"
     ]
    }
   ],
   "source": [
    "def describe_pet(pet_name, animal_type='dog'):\n",
    "    \"\"\"Display information about a pet.\"\"\"\n",
    "    print(\"\\nI have \" + animal_type + \".\")\n",
    "    print(\"My \" + animal_type + \"'s name is \" + pet_name.title() + \".\")\n",
    "    \n",
    "describe_pet(pet_name='wallie')"
   ]
  },
  {
   "cell_type": "code",
   "execution_count": 9,
   "id": "0ceb1ee3",
   "metadata": {},
   "outputs": [
    {
     "name": "stdout",
     "output_type": "stream",
     "text": [
      "\n",
      "I have dog.\n",
      "My dog's name is Willie.\n",
      "\n",
      "I have dog.\n",
      "My dog's name is Willie.\n",
      "\n",
      "I have hamster.\n",
      "My hamster's name is Harry.\n",
      "\n",
      "I have hamster.\n",
      "My hamster's name is Harry.\n",
      "\n",
      "I have hamster.\n",
      "My hamster's name is Harry.\n"
     ]
    }
   ],
   "source": [
    "def describe_pet(pet_name, animal_type='dog'): \n",
    "    \"\"\"Display information about a pet.\"\"\"\n",
    "    print(\"\\nI have \" + animal_type + \".\")\n",
    "    print(\"My \" + animal_type + \"'s name is \" + pet_name.title() + \".\")\n",
    "\n",
    "# A dog named Willie.\n",
    "describe_pet('willie')\n",
    "describe_pet(pet_name='willie')\n",
    "# A hamster named Harry.\n",
    "describe_pet('harry', 'hamster')\n",
    "describe_pet(pet_name='harry', animal_type='hamster')\n",
    "describe_pet(animal_type='hamster', pet_name='harry')"
   ]
  },
  {
   "cell_type": "code",
   "execution_count": 10,
   "id": "e68a0aeb",
   "metadata": {},
   "outputs": [],
   "source": [
    "# def describe_pet(animal_type, pet_name):\n",
    "#     \"\"\"Display information about a pet.\"\"\"\n",
    "#     print(\"\\nI have a \" + animal_type + \".\")\n",
    "#     print(\"My \" + animal_type + \"'s name is \" + pet_name.title() + \".\")\n",
    "    \n",
    "# describe_pet()"
   ]
  },
  {
   "cell_type": "code",
   "execution_count": 11,
   "id": "5be257b1",
   "metadata": {},
   "outputs": [
    {
     "name": "stdout",
     "output_type": "stream",
     "text": [
      "This shirt is small.\n",
      "'Lo Nd Behold' is written on it!\n"
     ]
    }
   ],
   "source": [
    "def make_shirt(size, text):\n",
    "    \"\"\"Shirt info.\"\"\"\n",
    "    print(\"This shirt is \" + size + \".\")\n",
    "    print(\"'\" + text.title() + \"'\" + \" is written on it!\")\n",
    "\n",
    "make_shirt('small', 'Lo nd Behold')"
   ]
  },
  {
   "cell_type": "code",
   "execution_count": 12,
   "id": "3374fd20",
   "metadata": {},
   "outputs": [
    {
     "name": "stdout",
     "output_type": "stream",
     "text": [
      "This shirt is large.\n",
      "'Pizza!' is written on it!\n"
     ]
    }
   ],
   "source": [
    "make_shirt(size=\"large\", text=\"Pizza!\")"
   ]
  },
  {
   "cell_type": "code",
   "execution_count": 13,
   "id": "6577d968",
   "metadata": {},
   "outputs": [
    {
     "name": "stdout",
     "output_type": "stream",
     "text": [
      "This shirt is large.\n",
      "'I Love Python' is written on it!\n",
      "This shirt is medium.\n",
      "'I Love Python' is written on it!\n",
      "This shirt is large.\n",
      "'Python For Life!' is written on it!\n"
     ]
    }
   ],
   "source": [
    "def make_shirt(size=\"large\", text=\"I love Python\"):\n",
    "    \"\"\"Shirt info.\"\"\"\n",
    "    print(\"This shirt is \" + size + \".\")\n",
    "    print(\"'\" + text.title() + \"'\" + \" is written on it!\")\n",
    "    \n",
    "make_shirt()\n",
    "make_shirt(size=\"medium\")\n",
    "make_shirt(text=\"Python for life!\")"
   ]
  },
  {
   "cell_type": "code",
   "execution_count": 14,
   "id": "c0460e83",
   "metadata": {},
   "outputs": [
    {
     "name": "stdout",
     "output_type": "stream",
     "text": [
      "Reykjavik is in Iceland.\n",
      "Idk is in Iceland.\n",
      "Multan is in Pakistan.\n"
     ]
    }
   ],
   "source": [
    "def describe_city(city, country=\"Iceland\"):\n",
    "    \"\"\"City description\"\"\"\n",
    "    print(city.title() + \" is in \" + country.title() + \".\")\n",
    "\n",
    "describe_city(\"Reykjavik\")\n",
    "describe_city(\"IDK\")\n",
    "describe_city(\"Multan\", \"Pakistan\")"
   ]
  },
  {
   "cell_type": "code",
   "execution_count": 15,
   "id": "af4ac0b7",
   "metadata": {},
   "outputs": [],
   "source": [
    "def get_formatted_name(first_name, last_name):\n",
    "    \"\"\"Return a full name, neatly formatted\"\"\"\n",
    "    full_name = first_name + \" \" + last_name\n",
    "    return full_name.title()"
   ]
  },
  {
   "cell_type": "code",
   "execution_count": 16,
   "id": "b82ad244",
   "metadata": {},
   "outputs": [],
   "source": [
    "criketer = get_formatted_name('Asaad', 'Areeb')"
   ]
  },
  {
   "cell_type": "code",
   "execution_count": 17,
   "id": "45aac091",
   "metadata": {},
   "outputs": [
    {
     "data": {
      "text/plain": [
       "'Asaad Areeb'"
      ]
     },
     "execution_count": 17,
     "metadata": {},
     "output_type": "execute_result"
    }
   ],
   "source": [
    "criketer"
   ]
  },
  {
   "cell_type": "code",
   "execution_count": 18,
   "id": "da146209",
   "metadata": {},
   "outputs": [],
   "source": [
    "def get_formatted_name(first_name, middle_name, last_name):\n",
    "    \"\"\"Return a full name, neatly formatted.\"\"\"\n",
    "    full_name = first_name + ' ' + middle_name + ' ' + last_name\n",
    "    return full_name.title()"
   ]
  },
  {
   "cell_type": "code",
   "execution_count": 19,
   "id": "58dfafee",
   "metadata": {},
   "outputs": [],
   "source": [
    "criketer = get_formatted_name('Muhammad', 'Asaad', 'Areeb')"
   ]
  },
  {
   "cell_type": "code",
   "execution_count": 20,
   "id": "4f7cc538",
   "metadata": {},
   "outputs": [
    {
     "data": {
      "text/plain": [
       "'Muhammad Asaad Areeb'"
      ]
     },
     "execution_count": 20,
     "metadata": {},
     "output_type": "execute_result"
    }
   ],
   "source": [
    "criketer"
   ]
  },
  {
   "cell_type": "code",
   "execution_count": 21,
   "id": "7b6313d5",
   "metadata": {},
   "outputs": [],
   "source": [
    "def get_formatted_name(first_name, last_name, middle_name=''):\n",
    "    \"\"\"Return a full name, neatly formatted.\"\"\"\n",
    "    if middle_name:\n",
    "        full_name = first_name + \" \" + middle_name + \" \" + last_name\n",
    "    else:\n",
    "        full_name = first_name + \" \" + last_name\n",
    "    \n",
    "    return full_name"
   ]
  },
  {
   "cell_type": "code",
   "execution_count": 22,
   "id": "045ce429",
   "metadata": {},
   "outputs": [
    {
     "data": {
      "text/plain": [
       "'Asaad Areeb'"
      ]
     },
     "execution_count": 22,
     "metadata": {},
     "output_type": "execute_result"
    }
   ],
   "source": [
    "criketer = get_formatted_name('Asaad', 'Areeb')\n",
    "criketer"
   ]
  },
  {
   "cell_type": "code",
   "execution_count": 23,
   "id": "a1b97d87",
   "metadata": {},
   "outputs": [
    {
     "data": {
      "text/plain": [
       "'Muhammad Asaad Areeb'"
      ]
     },
     "execution_count": 23,
     "metadata": {},
     "output_type": "execute_result"
    }
   ],
   "source": [
    "criketer = get_formatted_name('Muhammad', 'Areeb', 'Asaad')\n",
    "criketer"
   ]
  },
  {
   "cell_type": "code",
   "execution_count": 24,
   "id": "42bc98e6",
   "metadata": {},
   "outputs": [],
   "source": [
    "def build_person(first_name, last_name):\n",
    "    \"\"\"Return a dictionary of information about a person.\"\"\"\n",
    "    person = {'first': first_name, 'last': last_name}\n",
    "    return person"
   ]
  },
  {
   "cell_type": "code",
   "execution_count": 25,
   "id": "b5afc3d5",
   "metadata": {},
   "outputs": [
    {
     "data": {
      "text/plain": [
       "{'first': 'Asaad', 'last': 'Areeb'}"
      ]
     },
     "execution_count": 25,
     "metadata": {},
     "output_type": "execute_result"
    }
   ],
   "source": [
    "criketer = build_person('Asaad', 'Areeb')\n",
    "criketer"
   ]
  },
  {
   "cell_type": "code",
   "execution_count": 26,
   "id": "dd79df3c",
   "metadata": {},
   "outputs": [],
   "source": [
    "def build_person(first_name, last_name, age=None):\n",
    "    \"\"\"Return a dictionary of information about a person.\"\"\"\n",
    "    person = {'first': first_name, 'last': last_name}\n",
    "    if age:\n",
    "        person['age'] = age\n",
    "    return person"
   ]
  },
  {
   "cell_type": "code",
   "execution_count": 27,
   "id": "c7be6728",
   "metadata": {},
   "outputs": [
    {
     "data": {
      "text/plain": [
       "{'first': 'Asaad', 'last': 'Areeb', 'age': 22}"
      ]
     },
     "execution_count": 27,
     "metadata": {},
     "output_type": "execute_result"
    }
   ],
   "source": [
    "criketer = build_person('Asaad', 'Areeb', 22)\n",
    "criketer"
   ]
  },
  {
   "cell_type": "code",
   "execution_count": 28,
   "id": "df022fe6",
   "metadata": {},
   "outputs": [],
   "source": [
    "def get_formatted_name(first_name, last_name):\n",
    "    \"\"\"Return a full name, neatly formatted.\"\"\"\n",
    "    full_name = first_name + ' ' + last_name\n",
    "    return full_name.title()"
   ]
  },
  {
   "cell_type": "code",
   "execution_count": 29,
   "id": "c8a9cf2c",
   "metadata": {},
   "outputs": [],
   "source": [
    "# This is an infinite loop!\n",
    "# while True:\n",
    "#     print(\"\\n Please tell me your name:\")\n",
    "#     f_name = input(\"First name:\")\n",
    "#     l_name = input(\"Last name:\")\n",
    "    \n",
    "#     formatted_name = get_formatted_name(f_name, l_name)\n",
    "#     print(\"\\nHello, \" + formatted_name + \"!\")"
   ]
  },
  {
   "cell_type": "code",
   "execution_count": 30,
   "id": "4fbbdde6",
   "metadata": {},
   "outputs": [
    {
     "name": "stdout",
     "output_type": "stream",
     "text": [
      "\n",
      " Please tell me your name:\n",
      "(enter 'q' at any time to quit)\n",
      "First name:q\n"
     ]
    }
   ],
   "source": [
    "while True:\n",
    "    print(\"\\n Please tell me your name:\")\n",
    "    print(\"(enter 'q' at any time to quit)\")\n",
    "    f_name = input(\"First name:\")\n",
    "    if f_name == 'q':\n",
    "        break\n",
    "    l_name = input(\"Last name:\")\n",
    "    if l_name == 'q':\n",
    "        break\n",
    "    \n",
    "    formatted_name = get_formatted_name(f_name, l_name)\n",
    "    print(\"\\nHello, \" + formatted_name + \"!\")"
   ]
  },
  {
   "cell_type": "code",
   "execution_count": 31,
   "id": "4a1e89a9",
   "metadata": {},
   "outputs": [],
   "source": [
    "def city_country(city, country):\n",
    "    \"\"\"Return a specific formatted city-country pair.\"\"\"\n",
    "    region = city + \", \" + country\n",
    "    return region"
   ]
  },
  {
   "cell_type": "code",
   "execution_count": 32,
   "id": "6acdc96c",
   "metadata": {},
   "outputs": [
    {
     "data": {
      "text/plain": [
       "'Multan, Pakistan'"
      ]
     },
     "execution_count": 32,
     "metadata": {},
     "output_type": "execute_result"
    }
   ],
   "source": [
    "pair = city_country('Multan', 'Pakistan')\n",
    "pair"
   ]
  },
  {
   "cell_type": "code",
   "execution_count": 33,
   "id": "bd49f0a3",
   "metadata": {},
   "outputs": [
    {
     "data": {
      "text/plain": [
       "'Lahore, Pakistan'"
      ]
     },
     "execution_count": 33,
     "metadata": {},
     "output_type": "execute_result"
    }
   ],
   "source": [
    "pair = city_country('Lahore', 'Pakistan')\n",
    "pair"
   ]
  },
  {
   "cell_type": "code",
   "execution_count": 34,
   "id": "e3d89d74",
   "metadata": {},
   "outputs": [
    {
     "data": {
      "text/plain": [
       "'Queta, Pakistan'"
      ]
     },
     "execution_count": 34,
     "metadata": {},
     "output_type": "execute_result"
    }
   ],
   "source": [
    "pair = city_country('Queta', 'Pakistan')\n",
    "pair"
   ]
  },
  {
   "cell_type": "code",
   "execution_count": 35,
   "id": "90882071",
   "metadata": {},
   "outputs": [],
   "source": [
    "def make_album(artist_name, title):\n",
    "    album_info = {'name': artist_name, 'title': title}\n",
    "    return album_info"
   ]
  },
  {
   "cell_type": "code",
   "execution_count": 36,
   "id": "778df8e3",
   "metadata": {},
   "outputs": [
    {
     "data": {
      "text/plain": [
       "{'name': 'Justin', 'title': 'Justice'}"
      ]
     },
     "execution_count": 36,
     "metadata": {},
     "output_type": "execute_result"
    }
   ],
   "source": [
    "album = make_album('Justin', 'Justice')\n",
    "album"
   ]
  },
  {
   "cell_type": "code",
   "execution_count": 37,
   "id": "31844a17",
   "metadata": {},
   "outputs": [
    {
     "data": {
      "text/plain": [
       "{'name': 'Justin', 'title': 'Changes'}"
      ]
     },
     "execution_count": 37,
     "metadata": {},
     "output_type": "execute_result"
    }
   ],
   "source": [
    "album = make_album('Justin', 'Changes')\n",
    "album"
   ]
  },
  {
   "cell_type": "code",
   "execution_count": 38,
   "id": "12997fb6",
   "metadata": {},
   "outputs": [],
   "source": [
    "def make_album(artist_name, title, n_tracks=None):\n",
    "    album_info = {'name': artist_name, 'title': title}\n",
    "    if n_tracks:\n",
    "        album_info['n_tracks'] = n_tracks\n",
    "    return album_info"
   ]
  },
  {
   "cell_type": "code",
   "execution_count": 39,
   "id": "ca4842b1",
   "metadata": {},
   "outputs": [
    {
     "data": {
      "text/plain": [
       "{'name': 'Justin', 'title': 'Believe', 'n_tracks': 10}"
      ]
     },
     "execution_count": 39,
     "metadata": {},
     "output_type": "execute_result"
    }
   ],
   "source": [
    "album = make_album('Justin', 'Believe', 10)\n",
    "album"
   ]
  },
  {
   "cell_type": "code",
   "execution_count": 40,
   "id": "70842248",
   "metadata": {},
   "outputs": [
    {
     "name": "stdout",
     "output_type": "stream",
     "text": [
      "\n",
      "Enter Album's info:\n",
      "(Enter 'q' any time to quit)\n",
      "Enter artist name:q\n"
     ]
    }
   ],
   "source": [
    "while True:\n",
    "    print(\"\\nEnter Album's info:\")\n",
    "    print(\"(Enter 'q' any time to quit)\")\n",
    "    artist_name = input(\"Enter artist name:\")\n",
    "    if artist_name == 'q':\n",
    "        break\n",
    "    title = input(\"Enter the album's title:\")\n",
    "    if title == 'q':\n",
    "        break\n",
    "    album_info = make_album(artist_name, title)\n",
    "    print(album_info)\n",
    "    "
   ]
  },
  {
   "cell_type": "code",
   "execution_count": 41,
   "id": "dee06cbe",
   "metadata": {},
   "outputs": [],
   "source": [
    "def greet_users(names):\n",
    "    \"\"\"Print a simple greeting to each user in the list.\"\"\"\n",
    "    for name in names:\n",
    "        msg = \"Hello, \" + name.title() + \"!\"\n",
    "        print(msg)"
   ]
  },
  {
   "cell_type": "code",
   "execution_count": 42,
   "id": "9b11b16c",
   "metadata": {},
   "outputs": [
    {
     "name": "stdout",
     "output_type": "stream",
     "text": [
      "Hello, Hannah!\n",
      "Hello, Ty!\n",
      "Hello, Margot!\n"
     ]
    }
   ],
   "source": [
    "usernames = ['hannah', 'ty', 'margot']\n",
    "greet_users(usernames)"
   ]
  },
  {
   "cell_type": "code",
   "execution_count": 43,
   "id": "79103ea0",
   "metadata": {},
   "outputs": [
    {
     "name": "stdout",
     "output_type": "stream",
     "text": [
      "Printing model: dodecahedron\n",
      "Printing model: robot pendant\n",
      "Printing model: iphone case\n",
      "\n",
      "Te following models have been printed:\n",
      "dodecahedron\n",
      "robot pendant\n",
      "iphone case\n"
     ]
    }
   ],
   "source": [
    "# Start with some designs that need to be printed.\n",
    "unprinted_designs = ['iphone case', 'robot pendant', 'dodecahedron']\n",
    "\n",
    "completed_models = []\n",
    "\n",
    "# Simulate printing each design, until none are left.\n",
    "# Move each design to completed_models after printing.\n",
    "\n",
    "while unprinted_designs:\n",
    "    current_design = unprinted_designs.pop()\n",
    "    \n",
    "    # Simulate creating a 3D print from the design\n",
    "    print(\"Printing model: \" + current_design)\n",
    "    \n",
    "    completed_models.append(current_design)\n",
    "\n",
    "# Display all completed models.\n",
    "\n",
    "print(\"\\nTe following models have been printed:\")\n",
    "\n",
    "for comlpeted_model in completed_models:\n",
    "    print(comlpeted_model)"
   ]
  },
  {
   "cell_type": "code",
   "execution_count": 44,
   "id": "66a259d9",
   "metadata": {},
   "outputs": [],
   "source": [
    "def print_models(unprinted_designs, completed_models):\n",
    "    \"\"\"\n",
    "    Simulate printing each design, until none are left.\n",
    "    Move each design to completed_models after printing.\n",
    "    \"\"\"\n",
    "    while unprinted_designs:\n",
    "        current_design = unprinted_designs.pop()\n",
    "        \n",
    "        # Simulate creating a 3D print from the design.\n",
    "        print(\"Printing model: \" + current_design)\n",
    "        completed_models.append(current_design)\n",
    "\n",
    "def show_completed_models(completed_models):\n",
    "    \"\"\"Show all the models that were printed.\"\"\"\n",
    "    print(\"\\nThe following models have been printed.\")\n",
    "    for completed_model in completed_models:\n",
    "        print(completed_model)"
   ]
  },
  {
   "cell_type": "code",
   "execution_count": 45,
   "id": "4e9503a0",
   "metadata": {},
   "outputs": [],
   "source": [
    "unprinted_designs = ['iphone case', 'robot pendant', 'dodecahedron']\n",
    "completed_models = []"
   ]
  },
  {
   "cell_type": "code",
   "execution_count": 46,
   "id": "57186c3f",
   "metadata": {},
   "outputs": [
    {
     "name": "stdout",
     "output_type": "stream",
     "text": [
      "Printing model: dodecahedron\n",
      "Printing model: robot pendant\n",
      "Printing model: iphone case\n",
      "\n",
      "The following models have been printed.\n",
      "dodecahedron\n",
      "robot pendant\n",
      "iphone case\n"
     ]
    }
   ],
   "source": [
    "print_models(unprinted_designs, completed_models)\n",
    "show_completed_models(completed_models)"
   ]
  },
  {
   "cell_type": "code",
   "execution_count": 47,
   "id": "c425ebbc",
   "metadata": {},
   "outputs": [],
   "source": [
    "def show_magicians(names):\n",
    "    \"\"\"Show each magician name.\"\"\"\n",
    "    for idx,name in enumerate(names):\n",
    "        print(f\"Magician {idx+1}: {name}\")"
   ]
  },
  {
   "cell_type": "code",
   "execution_count": 48,
   "id": "aba6166b",
   "metadata": {},
   "outputs": [],
   "source": [
    "names = ['Asaad', 'Areeb']"
   ]
  },
  {
   "cell_type": "code",
   "execution_count": 49,
   "id": "a9ca6648",
   "metadata": {},
   "outputs": [
    {
     "name": "stdout",
     "output_type": "stream",
     "text": [
      "Magician 1: Asaad\n",
      "Magician 2: Areeb\n"
     ]
    }
   ],
   "source": [
    "show_magicians(names)"
   ]
  },
  {
   "cell_type": "code",
   "execution_count": 50,
   "id": "2bb2dc52",
   "metadata": {},
   "outputs": [],
   "source": [
    "def make_great(names, updated_names):\n",
    "    while names:\n",
    "        current_name = names.pop()\n",
    "        updated_name = current_name + \" \" + \"the Great\"\n",
    "        updated_names.append(updated_name)\n",
    "\n",
    "def show_magicians(names):\n",
    "    \"\"\"Show each magician name.\"\"\"\n",
    "    for idx,name in enumerate(names):\n",
    "        print(f\"Magician {idx+1}: {name}\")"
   ]
  },
  {
   "cell_type": "code",
   "execution_count": 51,
   "id": "67600c7d",
   "metadata": {},
   "outputs": [],
   "source": [
    "names = ['Asaad', 'Areeb', 'Rafey', 'Tanzeel']\n",
    "updated_names = []"
   ]
  },
  {
   "cell_type": "code",
   "execution_count": 52,
   "id": "d1c04ba0",
   "metadata": {},
   "outputs": [
    {
     "name": "stdout",
     "output_type": "stream",
     "text": [
      "Magician 1: Tanzeel the Great\n",
      "Magician 2: Rafey the Great\n",
      "Magician 3: Areeb the Great\n",
      "Magician 4: Asaad the Great\n"
     ]
    }
   ],
   "source": [
    "make_great(names, updated_names)\n",
    "show_magicians(updated_names)"
   ]
  },
  {
   "cell_type": "code",
   "execution_count": 53,
   "id": "dd71c97a",
   "metadata": {},
   "outputs": [],
   "source": [
    "def make_great(names, updated_names):\n",
    "    while names:\n",
    "        current_name = names.pop()\n",
    "        updated_name = current_name + \" \" + \"the Great\"\n",
    "        updated_names.append(updated_name)\n",
    "    return updated_names\n",
    "\n",
    "def show_magicians(names):\n",
    "    \"\"\"Show each magician name.\"\"\"\n",
    "    for idx,name in enumerate(names):\n",
    "        print(f\"Magician {idx+1}: {name}\")"
   ]
  },
  {
   "cell_type": "code",
   "execution_count": 54,
   "id": "d4286213",
   "metadata": {},
   "outputs": [],
   "source": [
    "names = ['Asaad', 'Areeb', 'Rafey', 'Tanzeel']\n",
    "updated_names = []"
   ]
  },
  {
   "cell_type": "code",
   "execution_count": 55,
   "id": "a15e09fd",
   "metadata": {},
   "outputs": [],
   "source": [
    "new_names = make_great(names[:], updated_names)"
   ]
  },
  {
   "cell_type": "code",
   "execution_count": 56,
   "id": "5e0620ea",
   "metadata": {},
   "outputs": [
    {
     "name": "stdout",
     "output_type": "stream",
     "text": [
      "Magician 1: Asaad\n",
      "Magician 2: Areeb\n",
      "Magician 3: Rafey\n",
      "Magician 4: Tanzeel\n"
     ]
    }
   ],
   "source": [
    "show_magicians(names)"
   ]
  },
  {
   "cell_type": "code",
   "execution_count": 57,
   "id": "2297a02c",
   "metadata": {},
   "outputs": [
    {
     "name": "stdout",
     "output_type": "stream",
     "text": [
      "Magician 1: Tanzeel the Great\n",
      "Magician 2: Rafey the Great\n",
      "Magician 3: Areeb the Great\n",
      "Magician 4: Asaad the Great\n"
     ]
    }
   ],
   "source": [
    "show_magicians(new_names)"
   ]
  },
  {
   "cell_type": "code",
   "execution_count": 58,
   "id": "159a1a9e",
   "metadata": {},
   "outputs": [
    {
     "name": "stdout",
     "output_type": "stream",
     "text": [
      "('pepperoni',)\n"
     ]
    }
   ],
   "source": [
    "def make_pizza(*toppings):\n",
    "    \"\"\"Print the list of toppings that have been requested.\"\"\"\n",
    "    print(toppings)\n",
    "\n",
    "make_pizza('pepperoni')"
   ]
  },
  {
   "cell_type": "code",
   "execution_count": 59,
   "id": "edb5a9a6",
   "metadata": {},
   "outputs": [
    {
     "name": "stdout",
     "output_type": "stream",
     "text": [
      "('mushrooms', 'green peppers', 'extra cheese')\n"
     ]
    }
   ],
   "source": [
    "make_pizza('mushrooms', 'green peppers', 'extra cheese')"
   ]
  },
  {
   "cell_type": "code",
   "execution_count": 60,
   "id": "ed0bf409",
   "metadata": {},
   "outputs": [],
   "source": [
    "def make_pizza(*toppings):\n",
    "    \"\"\"Summarize the pizza we are about to make.\"\"\"\n",
    "    print(\"\\nMake a pizza with the following toppings.\")\n",
    "    for topping in toppings:\n",
    "        print(\"- \" + topping)"
   ]
  },
  {
   "cell_type": "code",
   "execution_count": 61,
   "id": "12f5629e",
   "metadata": {},
   "outputs": [
    {
     "name": "stdout",
     "output_type": "stream",
     "text": [
      "\n",
      "Make a pizza with the following toppings.\n",
      "- pepperoni\n"
     ]
    }
   ],
   "source": [
    "make_pizza('pepperoni')"
   ]
  },
  {
   "cell_type": "code",
   "execution_count": 62,
   "id": "2f2e0f16",
   "metadata": {},
   "outputs": [
    {
     "name": "stdout",
     "output_type": "stream",
     "text": [
      "\n",
      "Make a pizza with the following toppings.\n",
      "- mushrooms\n",
      "- green peppers\n",
      "- extra cheese\n"
     ]
    }
   ],
   "source": [
    "make_pizza('mushrooms', 'green peppers', 'extra cheese')"
   ]
  },
  {
   "cell_type": "code",
   "execution_count": 63,
   "id": "6f299d28",
   "metadata": {},
   "outputs": [],
   "source": [
    "def make_pizza(size, *toppings):\n",
    "    \"\"\"SummariE the pizza we are about to make.\"\"\"\n",
    "    print(\"\\nMaking a \" + str(size) + \"-inch pizza with the following toppings:\")\n",
    "    \n",
    "    for topping in toppings:\n",
    "        print(\"- \" + topping)"
   ]
  },
  {
   "cell_type": "code",
   "execution_count": 64,
   "id": "a538c032",
   "metadata": {},
   "outputs": [
    {
     "name": "stdout",
     "output_type": "stream",
     "text": [
      "\n",
      "Making a 16-inch pizza with the following toppings:\n",
      "- pepperoni\n"
     ]
    }
   ],
   "source": [
    "make_pizza(16, 'pepperoni')"
   ]
  },
  {
   "cell_type": "code",
   "execution_count": 65,
   "id": "415d8196",
   "metadata": {},
   "outputs": [
    {
     "name": "stdout",
     "output_type": "stream",
     "text": [
      "\n",
      "Making a 12-inch pizza with the following toppings:\n",
      "- mushrooms\n",
      "- green peppers\n",
      "- extra cheese\n"
     ]
    }
   ],
   "source": [
    "make_pizza(12, 'mushrooms', 'green peppers', 'extra cheese')"
   ]
  },
  {
   "cell_type": "code",
   "execution_count": 66,
   "id": "12059b4a",
   "metadata": {},
   "outputs": [],
   "source": [
    "def build_profile(first, last, **user_info):\n",
    "    \"\"\"Build a dictionary containing everything we know about a user.\"\"\"\n",
    "    profile = {}\n",
    "    profile['first_name'] = first\n",
    "    profile['last_name'] = last\n",
    "    \n",
    "    for key, value in user_info.items():\n",
    "        profile[key] = value\n",
    "    return profile"
   ]
  },
  {
   "cell_type": "code",
   "execution_count": 67,
   "id": "6869eb91",
   "metadata": {},
   "outputs": [
    {
     "name": "stdout",
     "output_type": "stream",
     "text": [
      "{'first_name': 'Asaad', 'last_name': 'Areeb', 'location': 'Khanewal', 'field': 'ML/AI'}\n"
     ]
    }
   ],
   "source": [
    "user_profile = build_profile('Asaad', 'Areeb',\n",
    "                            location= 'Khanewal',\n",
    "                            field= 'ML/AI')\n",
    "print(user_profile)"
   ]
  },
  {
   "cell_type": "code",
   "execution_count": 68,
   "id": "7d561e44",
   "metadata": {},
   "outputs": [],
   "source": [
    "def make_sandwich(*items):\n",
    "    \"\"\"Print the Summary of the sandwich.\"\"\"\n",
    "    print(\"\\nWe are making sandwich with following items:\")\n",
    "    for item in items:\n",
    "        print(\"- \" + item)"
   ]
  },
  {
   "cell_type": "code",
   "execution_count": 69,
   "id": "9be9cf90",
   "metadata": {},
   "outputs": [
    {
     "name": "stdout",
     "output_type": "stream",
     "text": [
      "\n",
      "We are making sandwich with following items:\n",
      "- beef\n"
     ]
    }
   ],
   "source": [
    "make_sandwich('beef')"
   ]
  },
  {
   "cell_type": "code",
   "execution_count": 70,
   "id": "6b7db05b",
   "metadata": {},
   "outputs": [
    {
     "name": "stdout",
     "output_type": "stream",
     "text": [
      "\n",
      "We are making sandwich with following items:\n",
      "- cheese\n",
      "- kabab\n",
      "- latace\n"
     ]
    }
   ],
   "source": [
    "make_sandwich('cheese', 'kabab', 'latace')"
   ]
  },
  {
   "cell_type": "code",
   "execution_count": 71,
   "id": "90591d56",
   "metadata": {},
   "outputs": [
    {
     "name": "stdout",
     "output_type": "stream",
     "text": [
      "\n",
      "We are making sandwich with following items:\n",
      "- chatni\n",
      "- kabab\n",
      "- tomato\n",
      "- roasted egg\n"
     ]
    }
   ],
   "source": [
    "make_sandwich('chatni', 'kabab', 'tomato', 'roasted egg')"
   ]
  },
  {
   "cell_type": "code",
   "execution_count": 72,
   "id": "ae4a90e2",
   "metadata": {},
   "outputs": [],
   "source": [
    "def user_profile(first, last, **user_info):\n",
    "    \"\"\"Build a dictionary containing everything we know about a user.\"\"\"\n",
    "    profile = {}\n",
    "    \n",
    "    profile['first_name'] = first\n",
    "    profile['last_name'] = last\n",
    "    \n",
    "    for key, value in user_info.items():\n",
    "        profile[key] = value\n",
    "    return profile"
   ]
  },
  {
   "cell_type": "code",
   "execution_count": 73,
   "id": "fc3d8129",
   "metadata": {},
   "outputs": [
    {
     "name": "stdout",
     "output_type": "stream",
     "text": [
      "{'first_name': 'Asaad', 'last_name': 'Areeb', 'Residence': 'Khanewal', 'field': 'ML/AI', 'gradauted': 'Yes'}\n"
     ]
    }
   ],
   "source": [
    "user_info = user_profile('Asaad', 'Areeb',\n",
    "            Residence= 'Khanewal',\n",
    "            field= 'ML/AI',\n",
    "            gradauted= 'Yes')\n",
    "\n",
    "print(user_info)"
   ]
  },
  {
   "cell_type": "code",
   "execution_count": 74,
   "id": "af0fea1c",
   "metadata": {},
   "outputs": [],
   "source": [
    "def make_car(manufacturer, model_name, **details):\n",
    "    \"\"\"Build a dictionary of car info.\"\"\"\n",
    "    car_info = {}\n",
    "    \n",
    "    car_info['manufacturer'] = manufacturer\n",
    "    car_info['model_name'] = model_name\n",
    "    \n",
    "    for key, value in details.items():\n",
    "        car_info[key] = value\n",
    "    return car_info"
   ]
  },
  {
   "cell_type": "code",
   "execution_count": 75,
   "id": "4a952492",
   "metadata": {},
   "outputs": [
    {
     "name": "stdout",
     "output_type": "stream",
     "text": [
      "{'manufacturer': 'subaru', 'model_name': 'outback', 'color': 'blue', 'tow_package': True}\n"
     ]
    }
   ],
   "source": [
    "car = make_car('subaru', 'outback',\n",
    "               color='blue',\n",
    "               tow_package=True)\n",
    "print(car)"
   ]
  },
  {
   "cell_type": "markdown",
   "id": "b1620ffd",
   "metadata": {},
   "source": [
    "# Classes"
   ]
  },
  {
   "cell_type": "code",
   "execution_count": 76,
   "id": "e7543c0a",
   "metadata": {},
   "outputs": [],
   "source": [
    "class Dog():\n",
    "    \"\"\"A simple attempt to model a dog.\"\"\"\n",
    "    \n",
    "    def __init__(self, name, age):\n",
    "        \"\"\"Initialize name and age attributes.\"\"\"\n",
    "        self.name = name\n",
    "        self.age = age\n",
    "    \n",
    "    def sit(self):\n",
    "        \"\"\"Simulate a dog sitting in response to a command.\"\"\"\n",
    "        print(self.name.title() + \" is now sitting.\")\n",
    "    \n",
    "    def roll_over(self):\n",
    "        \"\"\"Simulate rolling over in response to a command.\"\"\"\n",
    "        print(self.name.title() + \" rolled over!\")"
   ]
  },
  {
   "cell_type": "code",
   "execution_count": 77,
   "id": "b6920aa4",
   "metadata": {},
   "outputs": [],
   "source": [
    "my_dog = Dog('Max', 12)"
   ]
  },
  {
   "cell_type": "code",
   "execution_count": 78,
   "id": "d60d72a1",
   "metadata": {},
   "outputs": [
    {
     "name": "stdout",
     "output_type": "stream",
     "text": [
      "My dog's name is Max.\n",
      "My dog is 12 years old.\n"
     ]
    }
   ],
   "source": [
    "print(\"My dog's name is \" + my_dog.name.title() + \".\")\n",
    "print(\"My dog is \" + str(my_dog.age) + \" years old.\")"
   ]
  },
  {
   "cell_type": "code",
   "execution_count": 79,
   "id": "0044951b",
   "metadata": {},
   "outputs": [
    {
     "name": "stdout",
     "output_type": "stream",
     "text": [
      "Max is now sitting.\n"
     ]
    }
   ],
   "source": [
    "my_dog.sit()"
   ]
  },
  {
   "cell_type": "code",
   "execution_count": 80,
   "id": "2b216887",
   "metadata": {},
   "outputs": [
    {
     "name": "stdout",
     "output_type": "stream",
     "text": [
      "Max rolled over!\n"
     ]
    }
   ],
   "source": [
    "my_dog.roll_over()"
   ]
  },
  {
   "cell_type": "code",
   "execution_count": 81,
   "id": "e0e7c1fc",
   "metadata": {},
   "outputs": [],
   "source": [
    "your_dog = Dog('lucy', 3)"
   ]
  },
  {
   "cell_type": "code",
   "execution_count": 82,
   "id": "97faaf09",
   "metadata": {},
   "outputs": [
    {
     "name": "stdout",
     "output_type": "stream",
     "text": [
      "My dog's name is Max.\n",
      "My dog is 12 years old.\n",
      "Max is now sitting.\n",
      "\n",
      "Your dog's name is Lucy.\n",
      "Your dog is 3 years old.\n",
      "Lucy is now sitting.\n"
     ]
    }
   ],
   "source": [
    "print(\"My dog's name is \" + my_dog.name.title() + \".\")\n",
    "print(\"My dog is \" + str(my_dog.age) + \" years old.\")\n",
    "my_dog.sit()\n",
    "print(\"\\nYour dog's name is \" + your_dog.name.title() + \".\")\n",
    "print(\"Your dog is \" + str(your_dog.age) + \" years old.\")\n",
    "your_dog.sit()"
   ]
  },
  {
   "cell_type": "code",
   "execution_count": 83,
   "id": "3a71ba64",
   "metadata": {},
   "outputs": [],
   "source": [
    "class Restaurant():\n",
    "    def __init__(self, restaurant_name, cuisine_type):\n",
    "        \"\"\"Initialize restaurant_name and cuisine_type attributes.\"\"\"\n",
    "        self.restaurant_name = restaurant_name\n",
    "        self.cuisine_type = cuisine_type\n",
    "    \n",
    "    def describe_restaurant(self):\n",
    "        print(\"Restaurant's name :\" + self.restaurant_name.title() + \".\")\n",
    "        print(\"Cuisine type :\" + self.cuisine_type.title() + \".\")\n",
    "    \n",
    "    def open_restaurant(self):\n",
    "        print(\"Restaurant is open.\")"
   ]
  },
  {
   "cell_type": "code",
   "execution_count": 84,
   "id": "eec3404e",
   "metadata": {},
   "outputs": [],
   "source": [
    "restaurant = Restaurant('Chinese Restaurant', 'Sushi')"
   ]
  },
  {
   "cell_type": "code",
   "execution_count": 85,
   "id": "c68efbb0",
   "metadata": {},
   "outputs": [
    {
     "data": {
      "text/plain": [
       "'Chinese Restaurant'"
      ]
     },
     "execution_count": 85,
     "metadata": {},
     "output_type": "execute_result"
    }
   ],
   "source": [
    "restaurant.restaurant_name"
   ]
  },
  {
   "cell_type": "code",
   "execution_count": 86,
   "id": "b09089fb",
   "metadata": {},
   "outputs": [
    {
     "data": {
      "text/plain": [
       "'Sushi'"
      ]
     },
     "execution_count": 86,
     "metadata": {},
     "output_type": "execute_result"
    }
   ],
   "source": [
    "restaurant.cuisine_type"
   ]
  },
  {
   "cell_type": "code",
   "execution_count": 87,
   "id": "d556a408",
   "metadata": {},
   "outputs": [
    {
     "name": "stdout",
     "output_type": "stream",
     "text": [
      "Restaurant's name :Chinese Restaurant.\n",
      "Cuisine type :Sushi.\n"
     ]
    }
   ],
   "source": [
    "restaurant.describe_restaurant()"
   ]
  },
  {
   "cell_type": "code",
   "execution_count": 88,
   "id": "f95e782c",
   "metadata": {},
   "outputs": [
    {
     "name": "stdout",
     "output_type": "stream",
     "text": [
      "Restaurant is open.\n"
     ]
    }
   ],
   "source": [
    "restaurant.open_restaurant()"
   ]
  },
  {
   "cell_type": "code",
   "execution_count": 89,
   "id": "8ad83ef9",
   "metadata": {},
   "outputs": [],
   "source": [
    "restaurant_1 = Restaurant('McDonald', 'Chicken Wings')"
   ]
  },
  {
   "cell_type": "code",
   "execution_count": 90,
   "id": "102442ac",
   "metadata": {},
   "outputs": [],
   "source": [
    "restaurant_2 = Restaurant('KFC', 'Paratha roll')"
   ]
  },
  {
   "cell_type": "code",
   "execution_count": 91,
   "id": "47fbfd8c",
   "metadata": {},
   "outputs": [],
   "source": [
    "restuarant_3 = Restaurant('P C', 'Karahi')"
   ]
  },
  {
   "cell_type": "code",
   "execution_count": 92,
   "id": "c05373d8",
   "metadata": {},
   "outputs": [
    {
     "name": "stdout",
     "output_type": "stream",
     "text": [
      "Restaurant's name :Mcdonald.\n",
      "Cuisine type :Chicken Wings.\n"
     ]
    }
   ],
   "source": [
    "restaurant_1.describe_restaurant()"
   ]
  },
  {
   "cell_type": "code",
   "execution_count": 93,
   "id": "6cb18497",
   "metadata": {},
   "outputs": [
    {
     "name": "stdout",
     "output_type": "stream",
     "text": [
      "Restaurant's name :Kfc.\n",
      "Cuisine type :Paratha Roll.\n"
     ]
    }
   ],
   "source": [
    "restaurant_2.describe_restaurant()"
   ]
  },
  {
   "cell_type": "code",
   "execution_count": 94,
   "id": "ebcf84e8",
   "metadata": {},
   "outputs": [
    {
     "name": "stdout",
     "output_type": "stream",
     "text": [
      "Restaurant's name :P C.\n",
      "Cuisine type :Karahi.\n"
     ]
    }
   ],
   "source": [
    "restuarant_3.describe_restaurant()"
   ]
  },
  {
   "cell_type": "code",
   "execution_count": 95,
   "id": "08e714c4",
   "metadata": {},
   "outputs": [],
   "source": [
    "class User():\n",
    "    \"\"\"A simple attempt to represent a user.\"\"\"\n",
    "    def __init__(\n",
    "        self, first_name, last_name, age,\n",
    "        father_name, siblings, residence):\n",
    "        \"\"\"Initialize attributes to describe a user.\"\"\"\n",
    "        self.first_name = first_name\n",
    "        self.last_name = last_name\n",
    "        self.age = age\n",
    "        self.father_name = father_name\n",
    "        self.siblings = siblings\n",
    "        self.residence = residence\n",
    "    \n",
    "    def describe_user(self):\n",
    "        \"\"\"Describe a user with the information given.\"\"\"\n",
    "        print(\"Name : \" + self.first_name + \" \" + self.last_name)\n",
    "        print(\"Age : \" + str(self.age))\n",
    "        print(\"Father's name : \" + self.father_name)\n",
    "        print(\"Number of siblings : \" + str(self.siblings))\n",
    "        print(\"Residence : \" + self.residence)\n",
    "    \n",
    "    def greet_user(self):\n",
    "        \"\"\"Greet the user.\"\"\"\n",
    "        print(\"Hello, \" + self.first_name + \" \" + self.last_name)"
   ]
  },
  {
   "cell_type": "code",
   "execution_count": 96,
   "id": "5420eb89",
   "metadata": {},
   "outputs": [],
   "source": [
    "user_1 = User('Asaad', 'Areeb', 22, 'Muhammad Muzaffar Hayat', 2, 'Khanewal')"
   ]
  },
  {
   "cell_type": "code",
   "execution_count": 97,
   "id": "7c67dfb9",
   "metadata": {},
   "outputs": [
    {
     "name": "stdout",
     "output_type": "stream",
     "text": [
      "Name : Asaad Areeb\n",
      "Age : 22\n",
      "Father's name : Muhammad Muzaffar Hayat\n",
      "Number of siblings : 2\n",
      "Residence : Khanewal\n"
     ]
    }
   ],
   "source": [
    "user_1.describe_user()"
   ]
  },
  {
   "cell_type": "code",
   "execution_count": 98,
   "id": "4e47291f",
   "metadata": {},
   "outputs": [],
   "source": [
    "class Car():\n",
    "    \"\"\"A simple attempt to represent a Car.\"\"\"\n",
    "    def __init__(self, make, model, year):\n",
    "        \"\"\"Initialize attributes to describe a car.\"\"\"\n",
    "        self.make = make\n",
    "        self.model = model\n",
    "        self.year = year\n",
    "    \n",
    "    def get_descriptive_name(self):\n",
    "        \"\"\"Return a neatly formatted descriptive name.\"\"\"\n",
    "        long_name = str(self.year) + ' ' + self.make + ' ' + self.model\n",
    "        return long_name.title()"
   ]
  },
  {
   "cell_type": "code",
   "execution_count": 99,
   "id": "9b8f46cb",
   "metadata": {},
   "outputs": [
    {
     "name": "stdout",
     "output_type": "stream",
     "text": [
      "2016 Audi A4\n"
     ]
    }
   ],
   "source": [
    "my_new_car = Car('audi', 'a4', 2016)\n",
    "print(my_new_car.get_descriptive_name())"
   ]
  },
  {
   "cell_type": "code",
   "execution_count": 100,
   "id": "7cd77774",
   "metadata": {},
   "outputs": [],
   "source": [
    "class Car():\n",
    "    \"\"\"A simple attempt to represent a Car.\"\"\"\n",
    "    def __init__(self, make, model, year):\n",
    "        \"\"\"Initialize attributes to describe a car.\"\"\"\n",
    "        self.make = make\n",
    "        self.model = model\n",
    "        self.year = year\n",
    "        self.odometer_reading = 0\n",
    "    \n",
    "    def get_descriptive_name(self):\n",
    "        \"\"\"Return a neatly formatted descriptive name.\"\"\"\n",
    "        long_name = str(self.year) + ' ' + self.make + ' ' + self.model\n",
    "        return long_name.title()\n",
    "    \n",
    "    def read_odometer(self):\n",
    "        \"\"\"Print a statement showing the car's mileage.\"\"\"\n",
    "        print(\"This car has \" + str(self.odometer_reading) + \" miles on it.\")"
   ]
  },
  {
   "cell_type": "code",
   "execution_count": 101,
   "id": "c41402b5",
   "metadata": {},
   "outputs": [
    {
     "name": "stdout",
     "output_type": "stream",
     "text": [
      "2016 Audi A4\n",
      "This car has 0 miles on it.\n"
     ]
    }
   ],
   "source": [
    "my_new_car = Car('audi', 'a4', 2016)\n",
    "print(my_new_car.get_descriptive_name())\n",
    "my_new_car.read_odometer()"
   ]
  },
  {
   "cell_type": "code",
   "execution_count": 102,
   "id": "236413ff",
   "metadata": {},
   "outputs": [
    {
     "name": "stdout",
     "output_type": "stream",
     "text": [
      "This car has 23 miles on it.\n"
     ]
    }
   ],
   "source": [
    "my_new_car.odometer_reading = 23\n",
    "my_new_car.read_odometer()"
   ]
  },
  {
   "cell_type": "code",
   "execution_count": 103,
   "id": "fab4184e",
   "metadata": {},
   "outputs": [],
   "source": [
    "class Car():\n",
    "    \"\"\"A simple attempt to represent a Car.\"\"\"\n",
    "    def __init__(self, make, model, year):\n",
    "        \"\"\"Initialize attributes to describe a car.\"\"\"\n",
    "        self.make = make\n",
    "        self.model = model\n",
    "        self.year = year\n",
    "        self.odometer_reading = 0\n",
    "    \n",
    "    def get_descriptive_name(self):\n",
    "        \"\"\"Return a neatly formatted descriptive name.\"\"\"\n",
    "        long_name = str(self.year) + ' ' + self.make + ' ' + self.model\n",
    "        return long_name.title()\n",
    "    \n",
    "    def read_odometer(self):\n",
    "        \"\"\"Print a statement showing the car's mileage.\"\"\"\n",
    "        print(\"This car has \" + str(self.odometer_reading) + \" miles on it.\")\n",
    "    \n",
    "    def update_odometer(self, mileage):\n",
    "        \"\"\"Set the odometer reading to the given value.\"\"\"\n",
    "        self.odometer_reading = mileage"
   ]
  },
  {
   "cell_type": "code",
   "execution_count": 104,
   "id": "10e6b142",
   "metadata": {},
   "outputs": [
    {
     "name": "stdout",
     "output_type": "stream",
     "text": [
      "2016 Audi A4\n",
      "This car has 0 miles on it.\n"
     ]
    }
   ],
   "source": [
    "my_new_car = Car('audi', 'a4', 2016)\n",
    "print(my_new_car.get_descriptive_name())\n",
    "my_new_car.read_odometer()"
   ]
  },
  {
   "cell_type": "code",
   "execution_count": 105,
   "id": "2e00db9d",
   "metadata": {},
   "outputs": [
    {
     "name": "stdout",
     "output_type": "stream",
     "text": [
      "This car has 23 miles on it.\n"
     ]
    }
   ],
   "source": [
    "my_new_car.update_odometer(23)\n",
    "my_new_car.read_odometer()"
   ]
  },
  {
   "cell_type": "code",
   "execution_count": 106,
   "id": "032f26a2",
   "metadata": {},
   "outputs": [],
   "source": [
    "class Car():\n",
    "    \"\"\"A simple attempt to represent a Car.\"\"\"\n",
    "    def __init__(self, make, model, year):\n",
    "        \"\"\"Initialize attributes to describe a car.\"\"\"\n",
    "        self.make = make\n",
    "        self.model = model\n",
    "        self.year = year\n",
    "        self.odometer_reading = 0\n",
    "    \n",
    "    def get_descriptive_name(self):\n",
    "        \"\"\"Return a neatly formatted descriptive name.\"\"\"\n",
    "        long_name = str(self.year) + ' ' + self.make + ' ' + self.model\n",
    "        return long_name.title()\n",
    "    \n",
    "    def read_odometer(self):\n",
    "        \"\"\"Print a statement showing the car's mileage.\"\"\"\n",
    "        print(\"This car has \" + str(self.odometer_reading) + \" miles on it.\")\n",
    "    \n",
    "    def update_odometer(self, mileage):\n",
    "        \"\"\"Set the odometer reading to the given value.\n",
    "        Reject the change if it attempts to roll the odometer back.\n",
    "        \"\"\"\n",
    "        if mileage >= self.odometer_reading:\n",
    "            self.odometer_reading = mileage\n",
    "        else:\n",
    "            print(\"You can't roll back an odometer!\")"
   ]
  },
  {
   "cell_type": "code",
   "execution_count": 107,
   "id": "8b446a8a",
   "metadata": {},
   "outputs": [
    {
     "name": "stdout",
     "output_type": "stream",
     "text": [
      "2016 Audi A4\n",
      "This car has 23 miles on it.\n"
     ]
    }
   ],
   "source": [
    "my_new_car = Car('audi', 'a4', 2016)\n",
    "print(my_new_car.get_descriptive_name())\n",
    "my_new_car.update_odometer(23)\n",
    "my_new_car.read_odometer()"
   ]
  },
  {
   "cell_type": "code",
   "execution_count": 108,
   "id": "82b0de53",
   "metadata": {},
   "outputs": [
    {
     "name": "stdout",
     "output_type": "stream",
     "text": [
      "You can't roll back an odometer!\n"
     ]
    }
   ],
   "source": [
    "my_new_car.update_odometer(22)"
   ]
  },
  {
   "cell_type": "code",
   "execution_count": 109,
   "id": "2c8940c0",
   "metadata": {},
   "outputs": [],
   "source": [
    "class Car():\n",
    "    \"\"\"A simple attempt to represent a Car.\"\"\"\n",
    "    def __init__(self, make, model, year):\n",
    "        \"\"\"Initialize attributes to describe a car.\"\"\"\n",
    "        self.make = make\n",
    "        self.model = model\n",
    "        self.year = year\n",
    "        self.odometer_reading = 0\n",
    "    \n",
    "    def get_descriptive_name(self):\n",
    "        \"\"\"Return a neatly formatted descriptive name.\"\"\"\n",
    "        long_name = str(self.year) + ' ' + self.make + ' ' + self.model\n",
    "        return long_name.title()\n",
    "    \n",
    "    def read_odometer(self):\n",
    "        \"\"\"Print a statement showing the car's mileage.\"\"\"\n",
    "        print(\"This car has \" + str(self.odometer_reading) + \" miles on it.\")\n",
    "    \n",
    "    def update_odometer(self, mileage):\n",
    "        \"\"\"Set the odometer reading to the given value.\n",
    "        Reject the change if it attempts to roll the odometer back.\n",
    "        \"\"\"\n",
    "        if mileage >= self.odometer_reading:\n",
    "            self.odometer_reading = mileage\n",
    "        else:\n",
    "            print(\"You can't roll back an odometer!\")\n",
    "    \n",
    "    def increment_odometer(self, miles):\n",
    "        \"\"\"Add the given amount to the odometer reading.\"\"\"\n",
    "        if miles >= 0:\n",
    "            self.odometer_reading += miles\n",
    "        else:\n",
    "            print(\"You can't roll back the odometer!\")"
   ]
  },
  {
   "cell_type": "code",
   "execution_count": 110,
   "id": "b197e06d",
   "metadata": {},
   "outputs": [
    {
     "name": "stdout",
     "output_type": "stream",
     "text": [
      "2013 Subaru Outback\n"
     ]
    }
   ],
   "source": [
    "my_used_car = Car('subaru', 'outback', '2013')\n",
    "print(my_used_car.get_descriptive_name())"
   ]
  },
  {
   "cell_type": "code",
   "execution_count": 111,
   "id": "9b7e66c9",
   "metadata": {},
   "outputs": [
    {
     "name": "stdout",
     "output_type": "stream",
     "text": [
      "This car has 23500 miles on it.\n"
     ]
    }
   ],
   "source": [
    "my_used_car.update_odometer(23500)\n",
    "my_used_car.read_odometer()"
   ]
  },
  {
   "cell_type": "code",
   "execution_count": 112,
   "id": "928c9e5b",
   "metadata": {},
   "outputs": [
    {
     "name": "stdout",
     "output_type": "stream",
     "text": [
      "This car has 23590 miles on it.\n"
     ]
    }
   ],
   "source": [
    "my_used_car.increment_odometer(90)\n",
    "my_used_car.read_odometer()"
   ]
  },
  {
   "cell_type": "code",
   "execution_count": 113,
   "id": "b27793e9",
   "metadata": {},
   "outputs": [],
   "source": [
    "class Restaurant():\n",
    "    def __init__(self, restaurant_name, cuisine_type):\n",
    "        \"\"\"Initialize restaurant_name and cuisine_type attributes.\"\"\"\n",
    "        self.restaurant_name = restaurant_name\n",
    "        self.cuisine_type = cuisine_type\n",
    "        self.number_served = 0\n",
    "    \n",
    "    def describe_restaurant(self):\n",
    "        print(\"Restaurant's name :\" + self.restaurant_name.title() + \".\")\n",
    "        print(\"Cuisine type :\" + self.cuisine_type.title() + \".\")\n",
    "    \n",
    "    def open_restaurant(self):\n",
    "        print(\"Restaurant is open.\")\n",
    "    \n",
    "    def read_served(self):\n",
    "        \"\"\"Print number of customers served.\"\"\"\n",
    "        print(str(self.number_served) + \" customers served.\")\n",
    "        \n",
    "    def set_number_served(self, n_served):\n",
    "        \"\"\"Set the number of customers served.\"\"\"\n",
    "        if n_served >= self.number_served:\n",
    "            self.number_served = n_served\n",
    "        else:\n",
    "            print(\"You can't roll back.\")\n",
    "    \n",
    "    def increment_number_served(self, num_served):\n",
    "        \"\"\"Increment the number of customers served in a specific interval of time\"\"\"\n",
    "        if num_served >= 0:\n",
    "            self.number_served += num_served\n",
    "        else:\n",
    "            print(\"You can't roll back\")"
   ]
  },
  {
   "cell_type": "code",
   "execution_count": 114,
   "id": "3f08bcfd",
   "metadata": {},
   "outputs": [
    {
     "name": "stdout",
     "output_type": "stream",
     "text": [
      "0 customers served.\n"
     ]
    }
   ],
   "source": [
    "restaurant = Restaurant('KFC', 'Wings')\n",
    "restaurant.read_served()"
   ]
  },
  {
   "cell_type": "code",
   "execution_count": 115,
   "id": "b232eeb4",
   "metadata": {},
   "outputs": [
    {
     "name": "stdout",
     "output_type": "stream",
     "text": [
      "20 customers served.\n"
     ]
    }
   ],
   "source": [
    "restaurant.set_number_served(20)\n",
    "restaurant.read_served()"
   ]
  },
  {
   "cell_type": "code",
   "execution_count": 116,
   "id": "b494855e",
   "metadata": {},
   "outputs": [
    {
     "name": "stdout",
     "output_type": "stream",
     "text": [
      "25 customers served.\n"
     ]
    }
   ],
   "source": [
    "restaurant.increment_number_served(5)\n",
    "restaurant.read_served()"
   ]
  },
  {
   "cell_type": "code",
   "execution_count": 117,
   "id": "6ea90221",
   "metadata": {},
   "outputs": [],
   "source": [
    "class User():\n",
    "    \"\"\"A simple attempt to represent a user.\"\"\"\n",
    "    def __init__(\n",
    "        self, first_name, last_name, age, father_name, siblings):\n",
    "        \"\"\"Initialize attributes to describe a user.\"\"\"\n",
    "        self.first_name = first_name\n",
    "        self.last_name = last_name\n",
    "        self.age = age\n",
    "        self.father_name = father_name\n",
    "        self.siblings = siblings\n",
    "        self.login_attempts = 0\n",
    "    \n",
    "    def describe_user(self):\n",
    "        \"\"\"Describe a user with the information given.\"\"\"\n",
    "        print(\"Name : \" + self.first_name + \" \" + self.last_name)\n",
    "        print(\"Age : \" + str(self.age))\n",
    "        print(\"Father's name : \" + self.father_name)\n",
    "        print(\"Number of siblings : \" + str(self.siblings))\n",
    "    \n",
    "    def greet_user(self):\n",
    "        \"\"\"Greet the user.\"\"\"\n",
    "        print(\"Hello, \" + self.first_name + \" \" + self.last_name)\n",
    "        \n",
    "    def increment_login_attempts(self):\n",
    "        \"\"\"Increment the value of login attempts by 1.\"\"\"\n",
    "        self.login_attempts += 1\n",
    "        \n",
    "    def reset_login_attempts(self):\n",
    "        \"\"\"Resets the value of login attempts to 0\"\"\"\n",
    "        self.login_attempts = 0\n",
    "        \n",
    "    def read_login_attempts(self):\n",
    "        \"\"\"Print the login attempts.\"\"\"\n",
    "        print(\"Number of login attempts: \" + str(self.login_attempts))"
   ]
  },
  {
   "cell_type": "code",
   "execution_count": 118,
   "id": "13140e91",
   "metadata": {},
   "outputs": [],
   "source": [
    "user_1 = User('Asaad', 'Areeb', 22, 'Muhammad Muzaffar Hayat', 2)"
   ]
  },
  {
   "cell_type": "code",
   "execution_count": 119,
   "id": "a74807e8",
   "metadata": {},
   "outputs": [],
   "source": [
    "user_1.increment_login_attempts()\n",
    "user_1.increment_login_attempts()\n",
    "user_1.increment_login_attempts()\n",
    "user_1.increment_login_attempts()\n",
    "user_1.increment_login_attempts()\n",
    "user_1.increment_login_attempts()\n",
    "user_1.increment_login_attempts()\n",
    "user_1.increment_login_attempts()\n",
    "user_1.increment_login_attempts()\n",
    "user_1.increment_login_attempts()"
   ]
  },
  {
   "cell_type": "code",
   "execution_count": 120,
   "id": "0a3f8022",
   "metadata": {},
   "outputs": [
    {
     "name": "stdout",
     "output_type": "stream",
     "text": [
      "Number of login attempts: 10\n"
     ]
    }
   ],
   "source": [
    "user_1.read_login_attempts()"
   ]
  },
  {
   "cell_type": "code",
   "execution_count": 121,
   "id": "719f9629",
   "metadata": {},
   "outputs": [],
   "source": [
    "user_1.reset_login_attempts()"
   ]
  },
  {
   "cell_type": "code",
   "execution_count": 122,
   "id": "0638ecc7",
   "metadata": {},
   "outputs": [
    {
     "name": "stdout",
     "output_type": "stream",
     "text": [
      "Number of login attempts: 0\n"
     ]
    }
   ],
   "source": [
    "user_1.read_login_attempts()"
   ]
  },
  {
   "cell_type": "code",
   "execution_count": 123,
   "id": "aff47678",
   "metadata": {},
   "outputs": [],
   "source": [
    "class Car():\n",
    "    \"\"\"A simple attempt to represent a Car.\"\"\"\n",
    "    def __init__(self, make, model, year):\n",
    "        \"\"\"Initialize attributes to describe a car.\"\"\"\n",
    "        self.make = make\n",
    "        self.model = model\n",
    "        self.year = year\n",
    "        self.odometer_reading = 0\n",
    "    \n",
    "    def get_descriptive_name(self):\n",
    "        \"\"\"Return a neatly formatted descriptive name.\"\"\"\n",
    "        long_name = str(self.year) + ' ' + self.make + ' ' + self.model\n",
    "        return long_name.title()\n",
    "    \n",
    "    def read_odometer(self):\n",
    "        \"\"\"Print a statement showing the car's mileage.\"\"\"\n",
    "        print(\"This car has \" + str(self.odometer_reading) + \" miles on it.\")\n",
    "    \n",
    "    def update_odometer(self, mileage):\n",
    "        \"\"\"Set the odometer reading to the given value.\n",
    "        Reject the change if it attempts to roll the odometer back.\n",
    "        \"\"\"\n",
    "        if mileage >= self.odometer_reading:\n",
    "            self.odometer_reading = mileage\n",
    "        else:\n",
    "            print(\"You can't roll back an odometer!\")\n",
    "    \n",
    "    def increment_odometer(self, miles):\n",
    "        \"\"\"Add the given amount to the odometer reading.\"\"\"\n",
    "        if miles >= 0:\n",
    "            self.odometer_reading += miles\n",
    "        else:\n",
    "            print(\"You can't roll back the odometer!\")"
   ]
  },
  {
   "cell_type": "code",
   "execution_count": 124,
   "id": "6814f7e1",
   "metadata": {},
   "outputs": [],
   "source": [
    "class ElectricCar(Car):\n",
    "    \"\"\"Represent aspects of a car, specific to electric vehicles.\"\"\"\n",
    "    def __init__(self, make, model, year):\n",
    "        \"\"\"\n",
    "        Initialize attributes of the parent class.\n",
    "        Then initialize attributes specific to an electric car.\n",
    "        \"\"\"\n",
    "        super().__init__(make, model, year)\n",
    "        self.battery_size = 70\n",
    "        \n",
    "    def describe_battery(self):\n",
    "        \"\"\"Print a statement describing a battery size.\"\"\"\n",
    "        print(\"This car has a \" + str(self.battery_size) + \"-KWh battery.\")"
   ]
  },
  {
   "cell_type": "code",
   "execution_count": 125,
   "id": "652ce52b",
   "metadata": {},
   "outputs": [
    {
     "name": "stdout",
     "output_type": "stream",
     "text": [
      "2016 Tesla Model S\n"
     ]
    }
   ],
   "source": [
    "my_tesla = ElectricCar('tesla', 'model s', 2016)\n",
    "print(my_tesla.get_descriptive_name())"
   ]
  },
  {
   "cell_type": "code",
   "execution_count": 126,
   "id": "55001733",
   "metadata": {},
   "outputs": [
    {
     "name": "stdout",
     "output_type": "stream",
     "text": [
      "This car has a 70-KWh battery.\n"
     ]
    }
   ],
   "source": [
    "my_tesla.describe_battery()"
   ]
  },
  {
   "cell_type": "code",
   "execution_count": 127,
   "id": "1dfd589c",
   "metadata": {},
   "outputs": [],
   "source": [
    "class Car():\n",
    "    \"\"\"A simple attempt to represent a Car.\"\"\"\n",
    "    def __init__(self, make, model, year):\n",
    "        \"\"\"Initialize attributes to describe a car.\"\"\"\n",
    "        self.make = make\n",
    "        self.model = model\n",
    "        self.year = year\n",
    "        self.odometer_reading = 0\n",
    "        self.gas_tank = 'quarter fill'\n",
    "    \n",
    "    def get_descriptive_name(self):\n",
    "        \"\"\"Return a neatly formatted descriptive name.\"\"\"\n",
    "        long_name = str(self.year) + ' ' + self.make + ' ' + self.model\n",
    "        return long_name.title()\n",
    "    \n",
    "    def read_odometer(self):\n",
    "        \"\"\"Print a statement showing the car's mileage.\"\"\"\n",
    "        print(\"This car has \" + str(self.odometer_reading) + \" miles on it.\")\n",
    "    \n",
    "    def update_odometer(self, mileage):\n",
    "        \"\"\"Set the odometer reading to the given value.\n",
    "        Reject the change if it attempts to roll the odometer back.\n",
    "        \"\"\"\n",
    "        if mileage >= self.odometer_reading:\n",
    "            self.odometer_reading = mileage\n",
    "        else:\n",
    "            print(\"You can't roll back an odometer!\")\n",
    "    \n",
    "    def increment_odometer(self, miles):\n",
    "        \"\"\"Add the given amount to the odometer reading.\"\"\"\n",
    "        if miles >= 0:\n",
    "            self.odometer_reading += miles\n",
    "        else:\n",
    "            print(\"You can't roll back the odometer!\")\n",
    "            \n",
    "    def fill_gas_tank(self):\n",
    "        \"\"\"Refill the gas tank once it is quarter fill.\"\"\"\n",
    "        print(\"Gas tank is \" + self.gas_tank)"
   ]
  },
  {
   "cell_type": "code",
   "execution_count": 128,
   "id": "87958602",
   "metadata": {},
   "outputs": [],
   "source": [
    "class ElectricCar(Car):\n",
    "    \"\"\"Represent aspects of a car, specific to electric vehicles.\"\"\"\n",
    "    def __init__(self, make, model, year):\n",
    "        \"\"\"\n",
    "        Initialize attributes of the parent class.\n",
    "        Then initialize attributes specific to an electric car.\n",
    "        \"\"\"\n",
    "        super().__init__(make, model, year)\n",
    "        self.battery_size = 70\n",
    "        \n",
    "    def describe_battery(self):\n",
    "        \"\"\"Print a statement describing a battery size.\"\"\"\n",
    "        print(\"This car has a \" + str(self.battery_size) + \"-KWh battery.\")\n",
    "        \n",
    "    def fill_gas_tank(self):\n",
    "        \"\"\"Electric cars don't have gas tanks.\"\"\"\n",
    "        print(\"This car doesn't need a gas tank!\")"
   ]
  },
  {
   "cell_type": "code",
   "execution_count": 129,
   "id": "82a3e2c1",
   "metadata": {},
   "outputs": [
    {
     "name": "stdout",
     "output_type": "stream",
     "text": [
      "This car doesn't need a gas tank!\n"
     ]
    }
   ],
   "source": [
    "my_tesla = ElectricCar('tesla', 'model s', 2016)\n",
    "my_tesla.fill_gas_tank()"
   ]
  },
  {
   "cell_type": "code",
   "execution_count": 130,
   "id": "738e3fa1",
   "metadata": {},
   "outputs": [],
   "source": [
    "class Car():\n",
    "    \"\"\"A simple attempt to represent a Car.\"\"\"\n",
    "    def __init__(self, make, model, year):\n",
    "        \"\"\"Initialize attributes to describe a car.\"\"\"\n",
    "        self.make = make\n",
    "        self.model = model\n",
    "        self.year = year\n",
    "        self.odometer_reading = 0\n",
    "        self.gas_tank = 'quarter fill'\n",
    "    \n",
    "    def get_descriptive_name(self):\n",
    "        \"\"\"Return a neatly formatted descriptive name.\"\"\"\n",
    "        long_name = str(self.year) + ' ' + self.make + ' ' + self.model\n",
    "        return long_name.title()\n",
    "    \n",
    "    def read_odometer(self):\n",
    "        \"\"\"Print a statement showing the car's mileage.\"\"\"\n",
    "        print(\"This car has \" + str(self.odometer_reading) + \" miles on it.\")\n",
    "    \n",
    "    def update_odometer(self, mileage):\n",
    "        \"\"\"Set the odometer reading to the given value.\n",
    "        Reject the change if it attempts to roll the odometer back.\n",
    "        \"\"\"\n",
    "        if mileage >= self.odometer_reading:\n",
    "            self.odometer_reading = mileage\n",
    "        else:\n",
    "            print(\"You can't roll back an odometer!\")\n",
    "    \n",
    "    def increment_odometer(self, miles):\n",
    "        \"\"\"Add the given amount to the odometer reading.\"\"\"\n",
    "        if miles >= 0:\n",
    "            self.odometer_reading += miles\n",
    "        else:\n",
    "            print(\"You can't roll back the odometer!\")\n",
    "            \n",
    "    def fill_gas_tank(self):\n",
    "        \"\"\"Refill the gas tank once it is quarter fill.\"\"\"\n",
    "        print(\"Gas tank is \" + self.gas_tank)"
   ]
  },
  {
   "cell_type": "code",
   "execution_count": 131,
   "id": "17d910f9",
   "metadata": {},
   "outputs": [],
   "source": [
    "class Battery():\n",
    "    \"\"\"A simple attempt to model a battery for an electric car.\"\"\"\n",
    "    def __init__(self, battery_size=70):\n",
    "        \"\"\"Initialize the battery's attributes.\"\"\"\n",
    "        self.battery_size = battery_size\n",
    "    \n",
    "    def describe_battery(self):\n",
    "        \"\"\"Print a statement describing the battery size.\"\"\"\n",
    "        print(\"This car has a \" + str(self.battery_size) + \"-KWh battery.\")"
   ]
  },
  {
   "cell_type": "code",
   "execution_count": 132,
   "id": "e7fa572d",
   "metadata": {},
   "outputs": [],
   "source": [
    "class ElectricCar(Car):\n",
    "    \"\"\"Represent aspects of a car, specific to electric vehicles.\"\"\"\n",
    "    def __init__(self, make, model, year):\n",
    "        \"\"\"\n",
    "        Initialize attributes of the parent class.\n",
    "        Then initialize attributes specific to an electric car.\n",
    "        \"\"\"\n",
    "        super().__init__(make, model, year)\n",
    "        self.battery = Battery()"
   ]
  },
  {
   "cell_type": "code",
   "execution_count": 133,
   "id": "1eaec8c1",
   "metadata": {},
   "outputs": [],
   "source": [
    "my_tesla = ElectricCar('tesla', 'model s', 2016)"
   ]
  },
  {
   "cell_type": "code",
   "execution_count": 134,
   "id": "717994a5",
   "metadata": {},
   "outputs": [
    {
     "name": "stdout",
     "output_type": "stream",
     "text": [
      "2016 Tesla Model S\n"
     ]
    }
   ],
   "source": [
    "print(my_tesla.get_descriptive_name())"
   ]
  },
  {
   "cell_type": "code",
   "execution_count": 135,
   "id": "df8de13b",
   "metadata": {},
   "outputs": [
    {
     "name": "stdout",
     "output_type": "stream",
     "text": [
      "This car has a 70-KWh battery.\n"
     ]
    }
   ],
   "source": [
    "my_tesla.battery.describe_battery()"
   ]
  },
  {
   "cell_type": "code",
   "execution_count": 136,
   "id": "5cff6a05",
   "metadata": {},
   "outputs": [],
   "source": [
    "class Car():\n",
    "    \"\"\"A simple attempt to represent a Car.\"\"\"\n",
    "    def __init__(self, make, model, year):\n",
    "        \"\"\"Initialize attributes to describe a car.\"\"\"\n",
    "        self.make = make\n",
    "        self.model = model\n",
    "        self.year = year\n",
    "        self.odometer_reading = 0\n",
    "        self.gas_tank = 'quarter fill'\n",
    "    \n",
    "    def get_descriptive_name(self):\n",
    "        \"\"\"Return a neatly formatted descriptive name.\"\"\"\n",
    "        long_name = str(self.year) + ' ' + self.make + ' ' + self.model\n",
    "        return long_name.title()\n",
    "    \n",
    "    def read_odometer(self):\n",
    "        \"\"\"Print a statement showing the car's mileage.\"\"\"\n",
    "        print(\"This car has \" + str(self.odometer_reading) + \" miles on it.\")\n",
    "    \n",
    "    def update_odometer(self, mileage):\n",
    "        \"\"\"Set the odometer reading to the given value.\n",
    "        Reject the change if it attempts to roll the odometer back.\n",
    "        \"\"\"\n",
    "        if mileage >= self.odometer_reading:\n",
    "            self.odometer_reading = mileage\n",
    "        else:\n",
    "            print(\"You can't roll back an odometer!\")\n",
    "    \n",
    "    def increment_odometer(self, miles):\n",
    "        \"\"\"Add the given amount to the odometer reading.\"\"\"\n",
    "        if miles >= 0:\n",
    "            self.odometer_reading += miles\n",
    "        else:\n",
    "            print(\"You can't roll back the odometer!\")\n",
    "            \n",
    "    def fill_gas_tank(self):\n",
    "        \"\"\"Refill the gas tank once it is quarter fill.\"\"\"\n",
    "        print(\"Gas tank is \" + self.gas_tank)"
   ]
  },
  {
   "cell_type": "code",
   "execution_count": 137,
   "id": "38f5a89d",
   "metadata": {},
   "outputs": [],
   "source": [
    "class Battery():\n",
    "    \"\"\"A simple attempt to model a battery for an electric car.\"\"\"\n",
    "    def __init__(self, battery_size=70):\n",
    "        \"\"\"Initialize the battery's attributes.\"\"\"\n",
    "        self.battery_size = battery_size\n",
    "    \n",
    "    def describe_battery(self):\n",
    "        \"\"\"Print a statement describing the battery size.\"\"\"\n",
    "        print(\"This car has a \" + str(self.battery_size) + \"-KWh battery.\")\n",
    "    \n",
    "    def get_range(self):\n",
    "        \"\"\"Print a statement about the range this battery provides.\"\"\"\n",
    "        if self.battery_size == 70:\n",
    "            range = 240\n",
    "        elif self.battery_size == 85:\n",
    "            range = 270\n",
    "        \n",
    "        message = \"This car can go approximately \" + str(range)\n",
    "        message += \" miles on a full charge.\"\n",
    "        print(message)"
   ]
  },
  {
   "cell_type": "code",
   "execution_count": 138,
   "id": "3bccced5",
   "metadata": {},
   "outputs": [],
   "source": [
    "class ElectricCar(Car):\n",
    "    \"\"\"Represent aspects of a car, specific to electric vehicles.\"\"\"\n",
    "    def __init__(self, make, model, year):\n",
    "        \"\"\"\n",
    "        Initialize attributes of the parent class.\n",
    "        Then initialize attributes specific to an electric car.\n",
    "        \"\"\"\n",
    "        super().__init__(make, model, year)\n",
    "        self.battery = Battery()"
   ]
  },
  {
   "cell_type": "code",
   "execution_count": 139,
   "id": "c562815a",
   "metadata": {},
   "outputs": [
    {
     "name": "stdout",
     "output_type": "stream",
     "text": [
      "2016 Tesla Model S\n",
      "This car has a 70-KWh battery.\n",
      "This car can go approximately 240 miles on a full charge.\n"
     ]
    }
   ],
   "source": [
    "my_tesla = ElectricCar('tesla', 'model s', 2016)\n",
    "print(my_tesla.get_descriptive_name())\n",
    "my_tesla.battery.describe_battery()\n",
    "my_tesla.battery.get_range()"
   ]
  },
  {
   "cell_type": "code",
   "execution_count": 140,
   "id": "f3a50244",
   "metadata": {},
   "outputs": [],
   "source": [
    "class Restaurant():\n",
    "    def __init__(self, restaurant_name, cuisine_type):\n",
    "        \"\"\"Initialize restaurant_name and cuisine_type attributes.\"\"\"\n",
    "        self.restaurant_name = restaurant_name\n",
    "        self.cuisine_type = cuisine_type\n",
    "        self.number_served = 0\n",
    "    \n",
    "    def describe_restaurant(self):\n",
    "        print(\"Restaurant's name :\" + self.restaurant_name.title() + \".\")\n",
    "        print(\"Cuisine type :\" + self.cuisine_type.title() + \".\")\n",
    "    \n",
    "    def open_restaurant(self):\n",
    "        print(\"Restaurant is open.\")\n",
    "    \n",
    "    def read_served(self):\n",
    "        \"\"\"Print number of customers served.\"\"\"\n",
    "        print(str(self.number_served) + \" customers served.\")\n",
    "        \n",
    "    def set_number_served(self, n_served):\n",
    "        \"\"\"Set the number of customers served.\"\"\"\n",
    "        if n_served >= self.number_served:\n",
    "            self.number_served = n_served\n",
    "        else:\n",
    "            print(\"You can't roll back.\")\n",
    "    \n",
    "    def increment_number_served(self, num_served):\n",
    "        \"\"\"Increment the number of customers served in a specific interval of time\"\"\"\n",
    "        if num_served >= 0:\n",
    "            self.number_served += num_served\n",
    "        else:\n",
    "            print(\"You can't roll back\")"
   ]
  },
  {
   "cell_type": "code",
   "execution_count": 141,
   "id": "7090cfc7",
   "metadata": {},
   "outputs": [],
   "source": [
    "class IceCreamStand(Restaurant):\n",
    "    \"\"\"Represent aspects of a restaurant, specific to Icecream Stand.\"\"\"\n",
    "    def __init__(self, restaurant_name, cuisine_type):\n",
    "        \"\"\"\n",
    "        Initialize attributes of the parent class.\n",
    "        Then initialize attributes specific to Icecream Stand.\n",
    "        \"\"\"\n",
    "        super().__init__(restaurant_name, cuisine_type)\n",
    "        self.flavors = ['Gelato', 'Kulfi', 'Sherbet', 'Sorbet', 'Frozen Yogurt', 'Snow Cream', 'Italian Ice', 'Dondurma']\n",
    "    \n",
    "    def display_flavors(self):\n",
    "        \"\"\"Print the Icecream Flavors.\"\"\"\n",
    "        print('Flavors Available:')\n",
    "        for flavor in self.flavors:\n",
    "            print(flavor.title())"
   ]
  },
  {
   "cell_type": "code",
   "execution_count": 142,
   "id": "d93e71a5",
   "metadata": {},
   "outputs": [],
   "source": [
    "my_stand = IceCreamStand('Waals', 'Icecream')"
   ]
  },
  {
   "cell_type": "code",
   "execution_count": 143,
   "id": "74a92c46",
   "metadata": {},
   "outputs": [
    {
     "name": "stdout",
     "output_type": "stream",
     "text": [
      "Restaurant's name :Waals.\n",
      "Cuisine type :Icecream.\n"
     ]
    }
   ],
   "source": [
    "my_stand.describe_restaurant()"
   ]
  },
  {
   "cell_type": "code",
   "execution_count": 144,
   "id": "d65892cc",
   "metadata": {},
   "outputs": [
    {
     "name": "stdout",
     "output_type": "stream",
     "text": [
      "Flavors Available:\n",
      "Gelato\n",
      "Kulfi\n",
      "Sherbet\n",
      "Sorbet\n",
      "Frozen Yogurt\n",
      "Snow Cream\n",
      "Italian Ice\n",
      "Dondurma\n"
     ]
    }
   ],
   "source": [
    "my_stand.display_flavors()"
   ]
  },
  {
   "cell_type": "code",
   "execution_count": 145,
   "id": "87b8e915",
   "metadata": {},
   "outputs": [],
   "source": [
    "class User():\n",
    "    \"\"\"A simple attempt to represent a user.\"\"\"\n",
    "    def __init__(\n",
    "        self, first_name, last_name, age, father_name, siblings):\n",
    "        \"\"\"Initialize attributes to describe a user.\"\"\"\n",
    "        self.first_name = first_name\n",
    "        self.last_name = last_name\n",
    "        self.age = age\n",
    "        self.father_name = father_name\n",
    "        self.siblings = siblings\n",
    "        self.login_attempts = 0\n",
    "    \n",
    "    def describe_user(self):\n",
    "        \"\"\"Describe a user with the information given.\"\"\"\n",
    "        print(\"Name : \" + self.first_name + \" \" + self.last_name)\n",
    "        print(\"Age : \" + str(self.age))\n",
    "        print(\"Father's name : \" + self.father_name)\n",
    "        print(\"Number of siblings : \" + str(self.siblings))\n",
    "    \n",
    "    def greet_user(self):\n",
    "        \"\"\"Greet the user.\"\"\"\n",
    "        print(\"Hello, \" + self.first_name + \" \" + self.last_name)\n",
    "        \n",
    "    def increment_login_attempts(self):\n",
    "        \"\"\"Increment the value of login attempts by 1.\"\"\"\n",
    "        self.login_attempts += 1\n",
    "        \n",
    "    def reset_login_attempts(self):\n",
    "        \"\"\"Resets the value of login attempts to 0\"\"\"\n",
    "        self.login_attempts = 0\n",
    "        \n",
    "    def read_login_attempts(self):\n",
    "        \"\"\"Print the login attempts.\"\"\"\n",
    "        print(\"Number of login attempts: \" + str(self.login_attempts))"
   ]
  },
  {
   "cell_type": "code",
   "execution_count": 146,
   "id": "a581634a",
   "metadata": {},
   "outputs": [],
   "source": [
    "class Admin(User):\n",
    "    \"\"\"Represents an Administrator\"\"\"\n",
    "    def __init__(self, first_name, last_name, age, father_name, siblings):\n",
    "        \"\"\"\n",
    "        Initialize attributes of the parent class.\n",
    "        Then initialize attributes specific to Icecream Stand.\n",
    "        \"\"\"\n",
    "        super().__init__(first_name, last_name, age, father_name, siblings)\n",
    "        self.privileges = [\n",
    "            'can add post',\n",
    "            'can delete post',\n",
    "            'can ban user',\n",
    "            'approve post'\n",
    "        ]\n",
    "    \n",
    "    def show_privileges(self):\n",
    "        \"\"\"List out admin's privileges.\"\"\"\n",
    "        print(\"Admin privileges:\")\n",
    "        for x,privilege in enumerate(self.privileges):\n",
    "            print(x+1, ': ', privilege)"
   ]
  },
  {
   "cell_type": "code",
   "execution_count": 147,
   "id": "172848d2",
   "metadata": {},
   "outputs": [],
   "source": [
    "admin = Admin('Asaad', 'Areeb', 22, 'Muzaffar Hayat', 2)"
   ]
  },
  {
   "cell_type": "code",
   "execution_count": 148,
   "id": "19516134",
   "metadata": {},
   "outputs": [
    {
     "name": "stdout",
     "output_type": "stream",
     "text": [
      "Admin privileges:\n",
      "1 :  can add post\n",
      "2 :  can delete post\n",
      "3 :  can ban user\n",
      "4 :  approve post\n"
     ]
    }
   ],
   "source": [
    "admin.show_privileges()"
   ]
  },
  {
   "cell_type": "code",
   "execution_count": 149,
   "id": "2da6f562",
   "metadata": {},
   "outputs": [],
   "source": [
    "class Privileges():\n",
    "    \"\"\"List out privileges.\"\"\"\n",
    "    def __init__(self, user_type, privileges = []):\n",
    "        self.user_type = user_type\n",
    "        self.privileges = privileges\n",
    "    \n",
    "    def show_privileges(self):\n",
    "        print(self.user_type.title(),\"'s privileges:\")\n",
    "        for x, privilege in enumerate(self.privileges):\n",
    "            print(x+1, ': ', privilege)"
   ]
  },
  {
   "cell_type": "code",
   "execution_count": 150,
   "id": "05d7b71f",
   "metadata": {},
   "outputs": [],
   "source": [
    "class Admin(User):\n",
    "    \"\"\"Represents an Administrator\"\"\"\n",
    "    def __init__(self, first_name, last_name, age, father_name, siblings):\n",
    "        \"\"\"\n",
    "        Initialize attributes of the parent class.\n",
    "        Then initialize attributes specific to Icecream Stand.\n",
    "        \"\"\"\n",
    "        super().__init__(first_name, last_name, age, father_name, siblings)\n",
    "        self.privileges = Privileges('admin', ['can add post', 'can delete post', 'can ban user', 'approve post'])"
   ]
  },
  {
   "cell_type": "code",
   "execution_count": 151,
   "id": "6766bfe7",
   "metadata": {},
   "outputs": [],
   "source": [
    "admin1 = Admin('Asaad', 'Areeb', 22, 'Muzaffar Hayat', 2)"
   ]
  },
  {
   "cell_type": "code",
   "execution_count": 152,
   "id": "392e105a",
   "metadata": {},
   "outputs": [
    {
     "name": "stdout",
     "output_type": "stream",
     "text": [
      "Admin 's privileges:\n",
      "1 :  can add post\n",
      "2 :  can delete post\n",
      "3 :  can ban user\n",
      "4 :  approve post\n"
     ]
    }
   ],
   "source": [
    "admin1.privileges.show_privileges()"
   ]
  },
  {
   "cell_type": "code",
   "execution_count": 153,
   "id": "3a6fbd99",
   "metadata": {},
   "outputs": [],
   "source": [
    "class Car():\n",
    "    \"\"\"A simple attempt to represent a Car.\"\"\"\n",
    "    def __init__(self, make, model, year):\n",
    "        \"\"\"Initialize attributes to describe a car.\"\"\"\n",
    "        self.make = make\n",
    "        self.model = model\n",
    "        self.year = year\n",
    "        self.odometer_reading = 0\n",
    "        self.gas_tank = 'quarter fill'\n",
    "    \n",
    "    def get_descriptive_name(self):\n",
    "        \"\"\"Return a neatly formatted descriptive name.\"\"\"\n",
    "        long_name = str(self.year) + ' ' + self.make + ' ' + self.model\n",
    "        return long_name.title()\n",
    "    \n",
    "    def read_odometer(self):\n",
    "        \"\"\"Print a statement showing the car's mileage.\"\"\"\n",
    "        print(\"This car has \" + str(self.odometer_reading) + \" miles on it.\")\n",
    "    \n",
    "    def update_odometer(self, mileage):\n",
    "        \"\"\"Set the odometer reading to the given value.\n",
    "        Reject the change if it attempts to roll the odometer back.\n",
    "        \"\"\"\n",
    "        if mileage >= self.odometer_reading:\n",
    "            self.odometer_reading = mileage\n",
    "        else:\n",
    "            print(\"You can't roll back an odometer!\")\n",
    "    \n",
    "    def increment_odometer(self, miles):\n",
    "        \"\"\"Add the given amount to the odometer reading.\"\"\"\n",
    "        if miles >= 0:\n",
    "            self.odometer_reading += miles\n",
    "        else:\n",
    "            print(\"You can't roll back the odometer!\")\n",
    "            \n",
    "    def fill_gas_tank(self):\n",
    "        \"\"\"Refill the gas tank once it is quarter fill.\"\"\"\n",
    "        print(\"Gas tank is \" + self.gas_tank)\n",
    "\n",
    "        \n",
    "\n",
    "\n",
    "class Battery():\n",
    "    \"\"\"A simple attempt to model a battery for an electric car.\"\"\"\n",
    "    def __init__(self, battery_size=70):\n",
    "        \"\"\"Initialize the battery's attributes.\"\"\"\n",
    "        self.battery_size = battery_size\n",
    "    \n",
    "    def describe_battery(self):\n",
    "        \"\"\"Print a statement describing the battery size.\"\"\"\n",
    "        print(\"This car has a \" + str(self.battery_size) + \"-KWh battery.\")\n",
    "    \n",
    "    def get_range(self):\n",
    "        \"\"\"Print a statement about the range this battery provides.\"\"\"\n",
    "        if self.battery_size == 70:\n",
    "            range = 240\n",
    "        elif self.battery_size == 85:\n",
    "            range = 270\n",
    "        \n",
    "        message = \"This car can go approximately \" + str(range)\n",
    "        message += \" miles on a full charge.\"\n",
    "        print(message)\n",
    "    \n",
    "    def upgrade_battery(self):\n",
    "        \"\"\"Check battery size and set it to 85.\"\"\"\n",
    "        if self.battery_size != 85:\n",
    "            self.battery_size = 85\n",
    "\n",
    "            \n",
    "        \n",
    "        \n",
    "        \n",
    "class ElectricCar(Car):\n",
    "    \"\"\"Represent aspects of a car, specific to electric vehicles.\"\"\"\n",
    "    def __init__(self, make, model, year):\n",
    "        \"\"\"\n",
    "        Initialize attributes of the parent class.\n",
    "        Then initialize attributes specific to an electric car.\n",
    "        \"\"\"\n",
    "        super().__init__(make, model, year)\n",
    "        self.battery = Battery()"
   ]
  },
  {
   "cell_type": "code",
   "execution_count": 154,
   "id": "f5225cd2",
   "metadata": {},
   "outputs": [
    {
     "name": "stdout",
     "output_type": "stream",
     "text": [
      "2016 Tesla Model S\n",
      "This car has a 70-KWh battery.\n",
      "This car can go approximately 240 miles on a full charge.\n"
     ]
    }
   ],
   "source": [
    "my_car = ElectricCar('tesla', 'model s', 2016)\n",
    "print(my_car.get_descriptive_name())\n",
    "my_car.battery.describe_battery()\n",
    "my_car.battery.get_range()"
   ]
  },
  {
   "cell_type": "code",
   "execution_count": 155,
   "id": "f5e86a7a",
   "metadata": {},
   "outputs": [
    {
     "name": "stdout",
     "output_type": "stream",
     "text": [
      "This car can go approximately 270 miles on a full charge.\n"
     ]
    }
   ],
   "source": [
    "my_car.battery.upgrade_battery()\n",
    "my_car.battery.get_range()"
   ]
  },
  {
   "cell_type": "code",
   "execution_count": 156,
   "id": "4eedb6d0",
   "metadata": {},
   "outputs": [
    {
     "name": "stdout",
     "output_type": "stream",
     "text": [
      "3.1415926535\n",
      "8979323846\n",
      "2643383279\n"
     ]
    }
   ],
   "source": [
    "with open('pi_digits.txt') as file_object:\n",
    "    contents = file_object.read()\n",
    "    print(contents)"
   ]
  },
  {
   "cell_type": "code",
   "execution_count": 157,
   "id": "5e113b0d",
   "metadata": {
    "scrolled": true
   },
   "outputs": [
    {
     "name": "stdout",
     "output_type": "stream",
     "text": [
      "3.1415926535\n",
      "8979323846\n",
      "2643383279\n"
     ]
    }
   ],
   "source": [
    "with open('pi_digits.txt') as file_object:\n",
    "    contents = file_object.read()\n",
    "    print(contents.rstrip())"
   ]
  },
  {
   "cell_type": "code",
   "execution_count": 158,
   "id": "a26e33e9",
   "metadata": {},
   "outputs": [
    {
     "name": "stdout",
     "output_type": "stream",
     "text": [
      "3.1415926535\n",
      "\n",
      "8979323846\n",
      "\n",
      "2643383279\n"
     ]
    }
   ],
   "source": [
    "file_name = 'pi_digits.txt'\n",
    "\n",
    "with open(file_name) as file_object:\n",
    "    for line in file_object:\n",
    "        print(line)"
   ]
  },
  {
   "cell_type": "code",
   "execution_count": 159,
   "id": "811f84c5",
   "metadata": {},
   "outputs": [
    {
     "name": "stdout",
     "output_type": "stream",
     "text": [
      "3.1415926535\n",
      "8979323846\n",
      "2643383279\n"
     ]
    }
   ],
   "source": [
    "file_name = 'pi_digits.txt'\n",
    "\n",
    "with open(file_name) as file_object:\n",
    "    for line in file_object:\n",
    "        print(line.rstrip())"
   ]
  },
  {
   "cell_type": "code",
   "execution_count": 160,
   "id": "979b1d21",
   "metadata": {},
   "outputs": [
    {
     "name": "stdout",
     "output_type": "stream",
     "text": [
      "3.1415926535\n",
      "8979323846\n",
      "2643383279\n"
     ]
    }
   ],
   "source": [
    "file_name = 'pi_digits.txt'\n",
    "\n",
    "with open(file_name) as file_object:\n",
    "    lines = file_object.readlines()\n",
    "\n",
    "for line in lines:\n",
    "    print(line.rstrip())"
   ]
  },
  {
   "cell_type": "code",
   "execution_count": 161,
   "id": "df17601b",
   "metadata": {},
   "outputs": [
    {
     "name": "stdout",
     "output_type": "stream",
     "text": [
      "3.141592653589793238462643383279\n",
      "32\n"
     ]
    }
   ],
   "source": [
    "file_name = 'pi_digits.txt'\n",
    "\n",
    "with open(file_name) as file_object:\n",
    "    lines = file_object.readlines()\n",
    "    \n",
    "pi_string = ''\n",
    "for line in lines:\n",
    "    pi_string += line.rstrip()\n",
    "\n",
    "print(pi_string)\n",
    "print(len(pi_string))"
   ]
  },
  {
   "cell_type": "code",
   "execution_count": 162,
   "id": "71f508c6",
   "metadata": {},
   "outputs": [
    {
     "name": "stdout",
     "output_type": "stream",
     "text": [
      "3.14159265358979323846264338327950288419716939937510...\n",
      "1000002\n"
     ]
    }
   ],
   "source": [
    "file_name = 'pi_million_digits.txt'\n",
    "\n",
    "with open(file_name) as file_object:\n",
    "    lines = file_object.readlines()\n",
    "\n",
    "pi_string = ''\n",
    "for line in lines:\n",
    "    pi_string += line.rstrip()\n",
    "    \n",
    "print(pi_string[:52] + '...')\n",
    "print(len(pi_string))"
   ]
  },
  {
   "cell_type": "code",
   "execution_count": 163,
   "id": "9e917c4b",
   "metadata": {},
   "outputs": [
    {
     "name": "stdout",
     "output_type": "stream",
     "text": [
      "Enter your birthday, in the form mmddyy:032300\n",
      "Your birthday appears in the first million digits of pi!\n"
     ]
    }
   ],
   "source": [
    "file_name = 'pi_million_digits.txt'\n",
    "\n",
    "with open(file_name) as file_object:\n",
    "    lines = file_object.readlines()\n",
    "\n",
    "pi_string = ''\n",
    "for line in lines:\n",
    "    pi_string += line.rstrip()\n",
    "    \n",
    "birthday = input(\"Enter your birthday, in the form mmddyy:\")\n",
    "if birthday in pi_string:\n",
    "    print(\"Your birthday appears in the first million digits of pi!\")\n",
    "else:\n",
    "    print(\"Your birthday does not appear in the first million digits of pi.\")"
   ]
  },
  {
   "cell_type": "code",
   "execution_count": 164,
   "id": "2877166e",
   "metadata": {},
   "outputs": [],
   "source": [
    "file_name = 'programming.txt'\n",
    "\n",
    "with open(file_name, 'w') as file_object:\n",
    "    file_object.write('I love programming.')"
   ]
  },
  {
   "cell_type": "code",
   "execution_count": 171,
   "id": "7b4a561d",
   "metadata": {},
   "outputs": [
    {
     "name": "stdout",
     "output_type": "stream",
     "text": [
      "I love programming.\n",
      "I love creating new games.\n"
     ]
    }
   ],
   "source": [
    "file_name = 'programming.txt'\n",
    "\n",
    "with open(file_name, 'w') as file_object:\n",
    "    file_object.write('I love programming.\\n')\n",
    "    file_object.write('I love creating new games.\\n')\n",
    "\n",
    "with open(file_name) as file_object:\n",
    "    for line in file_object:\n",
    "        print(line.rstrip())"
   ]
  },
  {
   "cell_type": "code",
   "execution_count": 172,
   "id": "47b0b32d",
   "metadata": {},
   "outputs": [],
   "source": [
    "file_name = 'programming.txt'\n",
    "\n",
    "with open(file_name, 'a') as file_object:\n",
    "    file_object.write(\"I also love finding meaning in large datasets.\\n\")\n",
    "    file_object.write(\"I love creating apps that can run in a browser.\\n\")"
   ]
  },
  {
   "cell_type": "code",
   "execution_count": 173,
   "id": "ef9e6136",
   "metadata": {},
   "outputs": [
    {
     "name": "stdout",
     "output_type": "stream",
     "text": [
      "I love programming.\n",
      "I love creating new games.\n",
      "I also love finding meaning in large datasets.\n",
      "I love creating apps that can run in a browser.\n"
     ]
    }
   ],
   "source": [
    "with open(file_name) as file_object:\n",
    "    for line in file_object:\n",
    "        print(line.rstrip())"
   ]
  },
  {
   "cell_type": "code",
   "execution_count": 176,
   "id": "3c4ad0e9",
   "metadata": {},
   "outputs": [
    {
     "name": "stdout",
     "output_type": "stream",
     "text": [
      "Write your name please.\n",
      "areeb\n"
     ]
    }
   ],
   "source": [
    "guest_name = input(\"Write your name please.\\n\")\n",
    "\n",
    "file_name = 'guests.txt'\n",
    "with open(file_name, 'a') as file_object:\n",
    "    file_object.write(f'{guest_name}. \\n')"
   ]
  },
  {
   "cell_type": "code",
   "execution_count": 180,
   "id": "8eac0430",
   "metadata": {},
   "outputs": [
    {
     "name": "stdout",
     "output_type": "stream",
     "text": [
      "Write your name please.\n",
      "asaad\n"
     ]
    }
   ],
   "source": [
    "file_name = 'guest_book.txt'\n",
    "guest = ''\n",
    "\n",
    "while guest == '':\n",
    "    guest = input(\"Write your name please.\\n\")\n",
    "    with open(file_name, 'a') as file_object:\n",
    "        file_object.write(f'{guest.title()} visited. \\n')"
   ]
  },
  {
   "cell_type": "code",
   "execution_count": 1,
   "id": "ce99fbd4",
   "metadata": {},
   "outputs": [
    {
     "ename": "ZeroDivisionError",
     "evalue": "division by zero",
     "output_type": "error",
     "traceback": [
      "\u001b[1;31m---------------------------------------------------------------------------\u001b[0m",
      "\u001b[1;31mZeroDivisionError\u001b[0m                         Traceback (most recent call last)",
      "Input \u001b[1;32mIn [1]\u001b[0m, in \u001b[0;36m<cell line: 1>\u001b[1;34m()\u001b[0m\n\u001b[1;32m----> 1\u001b[0m \u001b[38;5;28mprint\u001b[39m(\u001b[38;5;241;43m5\u001b[39;49m\u001b[38;5;241;43m/\u001b[39;49m\u001b[38;5;241;43m0\u001b[39;49m)\n",
      "\u001b[1;31mZeroDivisionError\u001b[0m: division by zero"
     ]
    }
   ],
   "source": [
    "print(5/0)"
   ]
  },
  {
   "cell_type": "code",
   "execution_count": 2,
   "id": "739e523d",
   "metadata": {},
   "outputs": [
    {
     "name": "stdout",
     "output_type": "stream",
     "text": [
      "You can't devide by zero!!\n"
     ]
    }
   ],
   "source": [
    "try:\n",
    "    print(5/0)\n",
    "except ZeroDivisionError:\n",
    "    print(\"You can't devide by zero!!\")"
   ]
  },
  {
   "cell_type": "code",
   "execution_count": 3,
   "id": "41c67264",
   "metadata": {},
   "outputs": [
    {
     "name": "stdout",
     "output_type": "stream",
     "text": [
      "Give me two numbers, and I'll divide them.\n",
      "Enter 'q' to quit.\n",
      "\n",
      "First number: 5\n",
      "\n",
      "Second number: 0\n"
     ]
    },
    {
     "ename": "ZeroDivisionError",
     "evalue": "division by zero",
     "output_type": "error",
     "traceback": [
      "\u001b[1;31m---------------------------------------------------------------------------\u001b[0m",
      "\u001b[1;31mZeroDivisionError\u001b[0m                         Traceback (most recent call last)",
      "Input \u001b[1;32mIn [3]\u001b[0m, in \u001b[0;36m<cell line: 4>\u001b[1;34m()\u001b[0m\n\u001b[0;32m      9\u001b[0m \u001b[38;5;28;01mif\u001b[39;00m second_number \u001b[38;5;241m==\u001b[39m \u001b[38;5;124m'\u001b[39m\u001b[38;5;124mq\u001b[39m\u001b[38;5;124m'\u001b[39m:\n\u001b[0;32m     10\u001b[0m     \u001b[38;5;28;01mbreak\u001b[39;00m\n\u001b[1;32m---> 11\u001b[0m answer \u001b[38;5;241m=\u001b[39m \u001b[38;5;28;43mint\u001b[39;49m\u001b[43m(\u001b[49m\u001b[43mfirst_number\u001b[49m\u001b[43m)\u001b[49m\u001b[43m \u001b[49m\u001b[38;5;241;43m/\u001b[39;49m\u001b[43m \u001b[49m\u001b[38;5;28;43mint\u001b[39;49m\u001b[43m(\u001b[49m\u001b[43msecond_number\u001b[49m\u001b[43m)\u001b[49m\n\u001b[0;32m     12\u001b[0m \u001b[38;5;28mprint\u001b[39m(answer)\n",
      "\u001b[1;31mZeroDivisionError\u001b[0m: division by zero"
     ]
    }
   ],
   "source": [
    "print(\"Give me two numbers, and I'll divide them.\")\n",
    "print(\"Enter 'q' to quit.\")\n",
    "\n",
    "while True:\n",
    "    first_number = input(\"\\nFirst number: \")\n",
    "    if first_number == 'q':\n",
    "        break\n",
    "    second_number = input(\"\\nSecond number: \")\n",
    "    if second_number == 'q':\n",
    "        break\n",
    "    answer = int(first_number) / int(second_number)\n",
    "    print(answer)"
   ]
  },
  {
   "cell_type": "code",
   "execution_count": 4,
   "id": "70b91864",
   "metadata": {},
   "outputs": [
    {
     "name": "stdout",
     "output_type": "stream",
     "text": [
      "Give me two numbers, and I'll divide them.\n",
      "Enter 'q' to quit.\n",
      "\n",
      "First number: 5\n",
      "\n",
      "Second number: 0\n",
      "You can't divide by 0!\n",
      "\n",
      "First number: 1\n",
      "\n",
      "Second number: 2\n",
      "0.5\n",
      "\n",
      "First number: q\n"
     ]
    }
   ],
   "source": [
    "print(\"Give me two numbers, and I'll divide them.\")\n",
    "print(\"Enter 'q' to quit.\")\n",
    "\n",
    "while True:\n",
    "    first_number = input(\"\\nFirst number: \")\n",
    "    if first_number == 'q':\n",
    "        break\n",
    "    second_number = input(\"\\nSecond number: \")\n",
    "    if second_number == 'q':\n",
    "        break\n",
    "    try:\n",
    "        answer = int(first_number) / int(second_number)\n",
    "    except ZeroDivisionError:\n",
    "        print(\"You can't divide by 0!\")\n",
    "    else:\n",
    "        print(answer)"
   ]
  },
  {
   "cell_type": "code",
   "execution_count": 5,
   "id": "f54ae6f1",
   "metadata": {},
   "outputs": [
    {
     "ename": "FileNotFoundError",
     "evalue": "[Errno 2] No such file or directory: 'alice.txt'",
     "output_type": "error",
     "traceback": [
      "\u001b[1;31m---------------------------------------------------------------------------\u001b[0m",
      "\u001b[1;31mFileNotFoundError\u001b[0m                         Traceback (most recent call last)",
      "Input \u001b[1;32mIn [5]\u001b[0m, in \u001b[0;36m<cell line: 3>\u001b[1;34m()\u001b[0m\n\u001b[0;32m      1\u001b[0m file_name \u001b[38;5;241m=\u001b[39m \u001b[38;5;124m'\u001b[39m\u001b[38;5;124malice.txt\u001b[39m\u001b[38;5;124m'\u001b[39m\n\u001b[1;32m----> 3\u001b[0m \u001b[38;5;28;01mwith\u001b[39;00m \u001b[38;5;28;43mopen\u001b[39;49m\u001b[43m(\u001b[49m\u001b[43mfile_name\u001b[49m\u001b[43m)\u001b[49m \u001b[38;5;28;01mas\u001b[39;00m f_obj:\n\u001b[0;32m      4\u001b[0m     contents \u001b[38;5;241m=\u001b[39m f_obj\u001b[38;5;241m.\u001b[39mread()\n",
      "\u001b[1;31mFileNotFoundError\u001b[0m: [Errno 2] No such file or directory: 'alice.txt'"
     ]
    }
   ],
   "source": [
    "file_name = 'alice.txt'\n",
    "\n",
    "with open(file_name) as f_obj:\n",
    "    contents = f_obj.read()"
   ]
  },
  {
   "cell_type": "code",
   "execution_count": 11,
   "id": "0b705f74",
   "metadata": {},
   "outputs": [
    {
     "name": "stdout",
     "output_type": "stream",
     "text": [
      "Sorry, the file alice.txt does not eixist.\n"
     ]
    }
   ],
   "source": [
    "file_name = 'alice.txt'\n",
    "\n",
    "try:\n",
    "    with open(file_name) as f_obj:\n",
    "        contents = f_obj.read()\n",
    "except FileNotFoundError:\n",
    "    msg = \"Sorry, the file \" + file_name + \" does not eixist.\"\n",
    "    print(msg)"
   ]
  },
  {
   "cell_type": "code",
   "execution_count": 12,
   "id": "194b0cd0",
   "metadata": {},
   "outputs": [
    {
     "data": {
      "text/plain": [
       "['Alice', 'in', 'Wonderland']"
      ]
     },
     "execution_count": 12,
     "metadata": {},
     "output_type": "execute_result"
    }
   ],
   "source": [
    "title = \"Alice in Wonderland\"\n",
    "title.split()"
   ]
  },
  {
   "cell_type": "code",
   "execution_count": 15,
   "id": "04dc76c2",
   "metadata": {},
   "outputs": [
    {
     "name": "stdout",
     "output_type": "stream",
     "text": [
      "The file alice.txt has about 29465 words.\n"
     ]
    }
   ],
   "source": [
    "file_name = 'alice.txt'\n",
    "\n",
    "try:\n",
    "    with open(file_name, encoding=\"utf8\") as f_obj:\n",
    "        contents = f_obj.read()\n",
    "except FileNotFoundError:\n",
    "    msg = \"Sorry, the file \" + file_name + \" does not eixist.\"\n",
    "    print(msg)\n",
    "else:\n",
    "    # Count the approximate number of words in the file.\n",
    "    words = contents.split()\n",
    "    num_words = len(words)\n",
    "    print(\"The file \" + file_name + \" has about \" + str(num_words) + \" words.\")"
   ]
  },
  {
   "cell_type": "code",
   "execution_count": 21,
   "id": "387dc9ea",
   "metadata": {},
   "outputs": [
    {
     "name": "stdout",
     "output_type": "stream",
     "text": [
      "The file alice.txt has about 29465 words.\n"
     ]
    }
   ],
   "source": [
    "def count_words(filename):\n",
    "    \"\"\"Count the approximate number of words in a file.\"\"\"\n",
    "    try:\n",
    "        with open(file_name, encoding=\"utf8\") as f_obj:\n",
    "            contents = f_obj.read()\n",
    "    except FileNotFoundError:\n",
    "        msg = \"Sorry, the file \" + file_name + \" does not eixist.\"\n",
    "        print(msg)\n",
    "    else:\n",
    "        # Count the approximate number of words in the file.\n",
    "        words = contents.split()\n",
    "        num_words = len(words)\n",
    "        print(\"The file \" + file_name + \" has about \" + str(num_words) + \" words.\")\n",
    "\n",
    "filename = 'alice.txt'\n",
    "count_words(filename)"
   ]
  },
  {
   "cell_type": "code",
   "execution_count": 33,
   "id": "cdac07c0",
   "metadata": {},
   "outputs": [],
   "source": [
    "def count_words(filename):\n",
    "    \"\"\"Count the approximate number of words in a file.\"\"\"\n",
    "    try:\n",
    "        with open(filename, encoding=\"utf8\") as f_obj:\n",
    "            contents = f_obj.read()\n",
    "    except FileNotFoundError:\n",
    "        msg = \"Sorry, the file \" + filename + \" does not eixist.\"\n",
    "        print(msg)\n",
    "    else:\n",
    "        # Count the approximate number of words in the file.\n",
    "        words = contents.split()\n",
    "        num_words = len(words)\n",
    "        print(\"The file \" + filename + \" has about \" + str(num_words) + \" words.\")"
   ]
  },
  {
   "cell_type": "code",
   "execution_count": 34,
   "id": "9e9f6976",
   "metadata": {},
   "outputs": [
    {
     "name": "stdout",
     "output_type": "stream",
     "text": [
      "The file alice.txt has about 29465 words.\n",
      "Sorry, the file siddhartha.txt does not eixist.\n",
      "The file moby_dick.txt has about 215864 words.\n",
      "The file little_women.txt has about 189079 words.\n"
     ]
    }
   ],
   "source": [
    "filenames = ['alice.txt', 'siddhartha.txt', 'moby_dick.txt', 'little_women.txt']\n",
    "for filename in filenames:\n",
    "    count_words(filename)"
   ]
  },
  {
   "cell_type": "code",
   "execution_count": 35,
   "id": "5f135ca5",
   "metadata": {},
   "outputs": [],
   "source": [
    "def count_words(filename):\n",
    "    \"\"\"Count the approximate number of words in a file.\"\"\"\n",
    "    try:\n",
    "        with open(filename, encoding=\"utf8\") as f_obj:\n",
    "            contents = f_obj.read()\n",
    "    except FileNotFoundError:\n",
    "        pass\n",
    "    else:\n",
    "        # Count the approximate number of words in the file.\n",
    "        words = contents.split()\n",
    "        num_words = len(words)\n",
    "        print(\"The file \" + filename + \" has about \" + str(num_words) + \" words.\")"
   ]
  },
  {
   "cell_type": "code",
   "execution_count": 36,
   "id": "144ecca0",
   "metadata": {},
   "outputs": [
    {
     "name": "stdout",
     "output_type": "stream",
     "text": [
      "The file alice.txt has about 29465 words.\n",
      "The file moby_dick.txt has about 215864 words.\n",
      "The file little_women.txt has about 189079 words.\n"
     ]
    }
   ],
   "source": [
    "filenames = ['alice.txt', 'siddhartha.txt', 'moby_dick.txt', 'little_women.txt']\n",
    "for filename in filenames:\n",
    "    count_words(filename)"
   ]
  },
  {
   "cell_type": "code",
   "execution_count": 43,
   "id": "97a2a8c2",
   "metadata": {},
   "outputs": [
    {
     "name": "stdout",
     "output_type": "stream",
     "text": [
      "Enter two numbers.\n",
      "Enter 'q' to quit.\n",
      "\n",
      "First Number: a\n",
      "\n",
      "Second Number: a\n",
      "Please use numbers instead of text!\n",
      "\n",
      "First Number: 1\n",
      "\n",
      "Second Number: 2\n",
      "Your Sum: 3\n",
      "\n",
      "First Number: 3\n",
      "\n",
      "Second Number: 3\n",
      "Your Sum: 6\n",
      "\n",
      "First Number: 4\n",
      "\n",
      "Second Number: 4\n",
      "Your Sum: 8\n",
      "\n",
      "First Number: 5\n",
      "\n",
      "Second Number: 5\n",
      "Your Sum: 10\n",
      "\n",
      "First Number: q\n"
     ]
    }
   ],
   "source": [
    "print(\"Enter two numbers.\")\n",
    "print(\"Enter 'q' to quit.\")\n",
    "while True:\n",
    "    first_num = input(\"\\nFirst Number: \")\n",
    "    if first_num == 'q':\n",
    "        break\n",
    "    second_num = input(\"\\nSecond Number: \")\n",
    "    if second_num == 'q':\n",
    "        break\n",
    "    try:\n",
    "        sum = int(first_num) + int(second_num)\n",
    "    except ValueError:\n",
    "        print(\"Please use numbers instead of text!\")\n",
    "    else:\n",
    "        print(\"Your Sum: \" + str(sum))"
   ]
  },
  {
   "cell_type": "code",
   "execution_count": null,
   "id": "1b710689",
   "metadata": {},
   "outputs": [],
   "source": []
  }
 ],
 "metadata": {
  "kernelspec": {
   "display_name": "fastai",
   "language": "python",
   "name": "fastai"
  },
  "language_info": {
   "codemirror_mode": {
    "name": "ipython",
    "version": 3
   },
   "file_extension": ".py",
   "mimetype": "text/x-python",
   "name": "python",
   "nbconvert_exporter": "python",
   "pygments_lexer": "ipython3",
   "version": "3.10.4"
  }
 },
 "nbformat": 4,
 "nbformat_minor": 5
}
